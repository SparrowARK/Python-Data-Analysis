{
 "cells": [
  {
   "cell_type": "markdown",
   "id": "76d09f84",
   "metadata": {},
   "source": [
    "# Importing necessary libraries"
   ]
  },
  {
   "cell_type": "code",
   "execution_count": 35,
   "id": "ec4ef145",
   "metadata": {},
   "outputs": [],
   "source": [
    "#importing necessary libraries\n",
    "import pandas as pd\n",
    "import numpy as np\n",
    "import matplotlib.pyplot as plt\n",
    "%matplotlib inline"
   ]
  },
  {
   "cell_type": "code",
   "execution_count": 36,
   "id": "5cf1a73d",
   "metadata": {},
   "outputs": [],
   "source": [
    "import warnings\n",
    "warnings.filterwarnings('ignore')"
   ]
  },
  {
   "cell_type": "markdown",
   "id": "b8eea875",
   "metadata": {},
   "source": [
    "# Reading dataset"
   ]
  },
  {
   "cell_type": "markdown",
   "id": "4832cf92",
   "metadata": {},
   "source": [
    "# About data : This is data that validated the grade of performance with age and certain workout performance data.\n",
    "age : 20 ~64 age between 20 to 64\n",
    "\n",
    "gender : F,M contains 2 categories\n",
    "\n",
    "height_cm this is height data in cm\n",
    "\n",
    "weight_kg   this is weight data in kg\n",
    "\n",
    "body fat_%      this is  body fat percentage\n",
    "\n",
    "diastolic : diastolic blood pressure (min)\n",
    "\n",
    "systolic : systolic blood pressure (min)\n",
    "\n",
    "gripForce   It is force of body hand grip\n",
    "\n",
    "sit and bend forward_cm  \n",
    "\n",
    "sit-ups counts Number of max situp count\n",
    "\n",
    "broad jump_cm It is broad jump in cm\n",
    "\n",
    "class : A,B ( A: best) (B: not so good)/ performance grade"
   ]
  },
  {
   "cell_type": "code",
   "execution_count": 37,
   "id": "56a5ea2d",
   "metadata": {
    "scrolled": true
   },
   "outputs": [
    {
     "data": {
      "text/html": [
       "<div>\n",
       "<style scoped>\n",
       "    .dataframe tbody tr th:only-of-type {\n",
       "        vertical-align: middle;\n",
       "    }\n",
       "\n",
       "    .dataframe tbody tr th {\n",
       "        vertical-align: top;\n",
       "    }\n",
       "\n",
       "    .dataframe thead th {\n",
       "        text-align: right;\n",
       "    }\n",
       "</style>\n",
       "<table border=\"1\" class=\"dataframe\">\n",
       "  <thead>\n",
       "    <tr style=\"text-align: right;\">\n",
       "      <th></th>\n",
       "      <th>age</th>\n",
       "      <th>gender</th>\n",
       "      <th>height_cm</th>\n",
       "      <th>weight_kg</th>\n",
       "      <th>body fat_%</th>\n",
       "      <th>diastolic</th>\n",
       "      <th>systolic</th>\n",
       "      <th>gripForce</th>\n",
       "      <th>sit and bend forward_cm</th>\n",
       "      <th>sit-ups counts</th>\n",
       "      <th>broad jump_cm</th>\n",
       "      <th>performance</th>\n",
       "    </tr>\n",
       "  </thead>\n",
       "  <tbody>\n",
       "    <tr>\n",
       "      <th>0</th>\n",
       "      <td>27</td>\n",
       "      <td>M</td>\n",
       "      <td>172.3</td>\n",
       "      <td>75.24</td>\n",
       "      <td>21.3</td>\n",
       "      <td>80.0</td>\n",
       "      <td>130.0</td>\n",
       "      <td>54.9</td>\n",
       "      <td>18.4</td>\n",
       "      <td>60.0</td>\n",
       "      <td>217.0</td>\n",
       "      <td>B</td>\n",
       "    </tr>\n",
       "    <tr>\n",
       "      <th>1</th>\n",
       "      <td>25</td>\n",
       "      <td>M</td>\n",
       "      <td>165.0</td>\n",
       "      <td>55.80</td>\n",
       "      <td>15.7</td>\n",
       "      <td>77.0</td>\n",
       "      <td>126.0</td>\n",
       "      <td>36.4</td>\n",
       "      <td>16.3</td>\n",
       "      <td>53.0</td>\n",
       "      <td>229.0</td>\n",
       "      <td>A</td>\n",
       "    </tr>\n",
       "    <tr>\n",
       "      <th>2</th>\n",
       "      <td>31</td>\n",
       "      <td>M</td>\n",
       "      <td>179.6</td>\n",
       "      <td>78.00</td>\n",
       "      <td>20.1</td>\n",
       "      <td>92.0</td>\n",
       "      <td>152.0</td>\n",
       "      <td>44.8</td>\n",
       "      <td>12.0</td>\n",
       "      <td>49.0</td>\n",
       "      <td>181.0</td>\n",
       "      <td>B</td>\n",
       "    </tr>\n",
       "    <tr>\n",
       "      <th>3</th>\n",
       "      <td>32</td>\n",
       "      <td>M</td>\n",
       "      <td>174.5</td>\n",
       "      <td>71.10</td>\n",
       "      <td>18.4</td>\n",
       "      <td>76.0</td>\n",
       "      <td>147.0</td>\n",
       "      <td>41.4</td>\n",
       "      <td>15.2</td>\n",
       "      <td>53.0</td>\n",
       "      <td>219.0</td>\n",
       "      <td>A</td>\n",
       "    </tr>\n",
       "    <tr>\n",
       "      <th>4</th>\n",
       "      <td>28</td>\n",
       "      <td>M</td>\n",
       "      <td>173.8</td>\n",
       "      <td>67.70</td>\n",
       "      <td>17.1</td>\n",
       "      <td>70.0</td>\n",
       "      <td>127.0</td>\n",
       "      <td>43.5</td>\n",
       "      <td>27.1</td>\n",
       "      <td>45.0</td>\n",
       "      <td>217.0</td>\n",
       "      <td>A</td>\n",
       "    </tr>\n",
       "  </tbody>\n",
       "</table>\n",
       "</div>"
      ],
      "text/plain": [
       "   age gender  height_cm  weight_kg  body fat_%  diastolic  systolic  \\\n",
       "0   27      M      172.3      75.24        21.3       80.0     130.0   \n",
       "1   25      M      165.0      55.80        15.7       77.0     126.0   \n",
       "2   31      M      179.6      78.00        20.1       92.0     152.0   \n",
       "3   32      M      174.5      71.10        18.4       76.0     147.0   \n",
       "4   28      M      173.8      67.70        17.1       70.0     127.0   \n",
       "\n",
       "   gripForce  sit and bend forward_cm  sit-ups counts  broad jump_cm  \\\n",
       "0       54.9                     18.4            60.0          217.0   \n",
       "1       36.4                     16.3            53.0          229.0   \n",
       "2       44.8                     12.0            49.0          181.0   \n",
       "3       41.4                     15.2            53.0          219.0   \n",
       "4       43.5                     27.1            45.0          217.0   \n",
       "\n",
       "  performance  \n",
       "0           B  \n",
       "1           A  \n",
       "2           B  \n",
       "3           A  \n",
       "4           A  "
      ]
     },
     "execution_count": 37,
     "metadata": {},
     "output_type": "execute_result"
    }
   ],
   "source": [
    "df = pd.read_csv(\"bodyPerformance.csv\")\n",
    "df.head(5)"
   ]
  },
  {
   "cell_type": "markdown",
   "id": "7024bc26",
   "metadata": {},
   "source": [
    "# Data preprocessing"
   ]
  },
  {
   "cell_type": "code",
   "execution_count": 38,
   "id": "3a0c272d",
   "metadata": {},
   "outputs": [
    {
     "name": "stdout",
     "output_type": "stream",
     "text": [
      "<class 'pandas.core.frame.DataFrame'>\n",
      "RangeIndex: 13393 entries, 0 to 13392\n",
      "Data columns (total 12 columns):\n",
      " #   Column                   Non-Null Count  Dtype  \n",
      "---  ------                   --------------  -----  \n",
      " 0   age                      13393 non-null  int64  \n",
      " 1   gender                   13393 non-null  object \n",
      " 2   height_cm                13393 non-null  float64\n",
      " 3   weight_kg                13393 non-null  float64\n",
      " 4   body fat_%               13390 non-null  float64\n",
      " 5   diastolic                13393 non-null  float64\n",
      " 6   systolic                 13393 non-null  float64\n",
      " 7   gripForce                13393 non-null  float64\n",
      " 8   sit and bend forward_cm  13393 non-null  float64\n",
      " 9   sit-ups counts           13393 non-null  float64\n",
      " 10  broad jump_cm            13393 non-null  float64\n",
      " 11  performance              13393 non-null  object \n",
      "dtypes: float64(9), int64(1), object(2)\n",
      "memory usage: 1.2+ MB\n"
     ]
    }
   ],
   "source": [
    "df.info()    #dataset info"
   ]
  },
  {
   "cell_type": "code",
   "execution_count": 39,
   "id": "465d21eb",
   "metadata": {
    "scrolled": true
   },
   "outputs": [
    {
     "data": {
      "text/plain": [
       "age                        0\n",
       "gender                     0\n",
       "height_cm                  0\n",
       "weight_kg                  0\n",
       "body fat_%                 3\n",
       "diastolic                  0\n",
       "systolic                   0\n",
       "gripForce                  0\n",
       "sit and bend forward_cm    0\n",
       "sit-ups counts             0\n",
       "broad jump_cm              0\n",
       "performance                0\n",
       "dtype: int64"
      ]
     },
     "execution_count": 39,
     "metadata": {},
     "output_type": "execute_result"
    }
   ],
   "source": [
    "df.isna().sum()   #checking if any null value in any column"
   ]
  },
  {
   "cell_type": "markdown",
   "id": "5f50d3f5",
   "metadata": {},
   "source": [
    "Above i checked if our data contains any null value. There were 3 null value in body fat column."
   ]
  },
  {
   "cell_type": "code",
   "execution_count": 40,
   "id": "9077401d",
   "metadata": {},
   "outputs": [
    {
     "data": {
      "text/plain": [
       "array(['M', 'F'], dtype=object)"
      ]
     },
     "execution_count": 40,
     "metadata": {},
     "output_type": "execute_result"
    }
   ],
   "source": [
    "df['gender'].unique()"
   ]
  },
  {
   "cell_type": "code",
   "execution_count": 41,
   "id": "a02c6efc",
   "metadata": {},
   "outputs": [
    {
     "data": {
      "text/plain": [
       "2"
      ]
     },
     "execution_count": 41,
     "metadata": {},
     "output_type": "execute_result"
    }
   ],
   "source": [
    "df['gender'].nunique()"
   ]
  },
  {
   "cell_type": "code",
   "execution_count": 42,
   "id": "12be7dd4",
   "metadata": {},
   "outputs": [
    {
     "data": {
      "text/plain": [
       "2"
      ]
     },
     "execution_count": 42,
     "metadata": {},
     "output_type": "execute_result"
    }
   ],
   "source": [
    "df['performance'].nunique()"
   ]
  },
  {
   "cell_type": "markdown",
   "id": "ce121b23",
   "metadata": {},
   "source": [
    "We used unique and nunique to find how many class are there in each column. There were only M and F in gender i checked to see if there was 3 class so to be sure i used unique."
   ]
  },
  {
   "cell_type": "code",
   "execution_count": 43,
   "id": "528089c0",
   "metadata": {},
   "outputs": [],
   "source": [
    "df2 = df[\"body fat_%\"].mean()   "
   ]
  },
  {
   "cell_type": "markdown",
   "id": "41538a6d",
   "metadata": {},
   "source": [
    "calculating mean value of body fat column so that i can replace it in null value."
   ]
  },
  {
   "cell_type": "code",
   "execution_count": 44,
   "id": "ca4d728a",
   "metadata": {},
   "outputs": [
    {
     "name": "stdout",
     "output_type": "stream",
     "text": [
      "23.241294188722918\n"
     ]
    }
   ],
   "source": [
    "print(df2)"
   ]
  },
  {
   "cell_type": "code",
   "execution_count": 45,
   "id": "5eac8b1a",
   "metadata": {},
   "outputs": [],
   "source": [
    "df = df.fillna(df2)  "
   ]
  },
  {
   "cell_type": "markdown",
   "id": "cfd1d45c",
   "metadata": {},
   "source": [
    "Adding mean value on null cells by using fillna"
   ]
  },
  {
   "cell_type": "code",
   "execution_count": 46,
   "id": "246ad0d2",
   "metadata": {
    "scrolled": true
   },
   "outputs": [
    {
     "data": {
      "text/plain": [
       "age                        0\n",
       "gender                     0\n",
       "height_cm                  0\n",
       "weight_kg                  0\n",
       "body fat_%                 0\n",
       "diastolic                  0\n",
       "systolic                   0\n",
       "gripForce                  0\n",
       "sit and bend forward_cm    0\n",
       "sit-ups counts             0\n",
       "broad jump_cm              0\n",
       "performance                0\n",
       "dtype: int64"
      ]
     },
     "execution_count": 46,
     "metadata": {},
     "output_type": "execute_result"
    }
   ],
   "source": [
    "df.isna().sum()   "
   ]
  },
  {
   "cell_type": "markdown",
   "id": "a602249b",
   "metadata": {},
   "source": [
    "Abpove i Checked if null value is remaining"
   ]
  },
  {
   "cell_type": "code",
   "execution_count": 47,
   "id": "55ce19da",
   "metadata": {},
   "outputs": [],
   "source": [
    "from sklearn.preprocessing import LabelEncoder"
   ]
  },
  {
   "cell_type": "code",
   "execution_count": 48,
   "id": "177b13d8",
   "metadata": {},
   "outputs": [],
   "source": [
    "le = LabelEncoder()\n",
    "gender = le.fit_transform(df['gender'])\n",
    "rate = le.fit_transform(df['performance'])"
   ]
  },
  {
   "cell_type": "markdown",
   "id": "812e3b90",
   "metadata": {},
   "source": [
    "Gender and rate were in string so I used lable encorder to tranform it to integer"
   ]
  },
  {
   "cell_type": "code",
   "execution_count": 49,
   "id": "e9be3b20",
   "metadata": {},
   "outputs": [],
   "source": [
    "df = df.drop(\"gender\", axis ='columns')\n",
    "df = df.drop(\"performance\", axis ='columns')\n",
    "df = df.drop(\"sit and bend forward_cm\", axis ='columns')"
   ]
  },
  {
   "cell_type": "code",
   "execution_count": 50,
   "id": "beaed2c1",
   "metadata": {},
   "outputs": [],
   "source": [
    "df[\"gender\"] = gender\n",
    "df[\"performance\"] = rate"
   ]
  },
  {
   "cell_type": "markdown",
   "id": "20440753",
   "metadata": {},
   "source": [
    "Removing column that was string and replacing it with newly change column which was encoded with integer"
   ]
  },
  {
   "cell_type": "code",
   "execution_count": 51,
   "id": "c1d28439",
   "metadata": {
    "scrolled": true
   },
   "outputs": [
    {
     "data": {
      "text/html": [
       "<div>\n",
       "<style scoped>\n",
       "    .dataframe tbody tr th:only-of-type {\n",
       "        vertical-align: middle;\n",
       "    }\n",
       "\n",
       "    .dataframe tbody tr th {\n",
       "        vertical-align: top;\n",
       "    }\n",
       "\n",
       "    .dataframe thead th {\n",
       "        text-align: right;\n",
       "    }\n",
       "</style>\n",
       "<table border=\"1\" class=\"dataframe\">\n",
       "  <thead>\n",
       "    <tr style=\"text-align: right;\">\n",
       "      <th></th>\n",
       "      <th>age</th>\n",
       "      <th>height_cm</th>\n",
       "      <th>weight_kg</th>\n",
       "      <th>body fat_%</th>\n",
       "      <th>diastolic</th>\n",
       "      <th>systolic</th>\n",
       "      <th>gripForce</th>\n",
       "      <th>sit-ups counts</th>\n",
       "      <th>broad jump_cm</th>\n",
       "      <th>gender</th>\n",
       "      <th>performance</th>\n",
       "    </tr>\n",
       "  </thead>\n",
       "  <tbody>\n",
       "    <tr>\n",
       "      <th>0</th>\n",
       "      <td>27</td>\n",
       "      <td>172.3</td>\n",
       "      <td>75.24</td>\n",
       "      <td>21.3</td>\n",
       "      <td>80.0</td>\n",
       "      <td>130.0</td>\n",
       "      <td>54.9</td>\n",
       "      <td>60.0</td>\n",
       "      <td>217.0</td>\n",
       "      <td>1</td>\n",
       "      <td>1</td>\n",
       "    </tr>\n",
       "    <tr>\n",
       "      <th>1</th>\n",
       "      <td>25</td>\n",
       "      <td>165.0</td>\n",
       "      <td>55.80</td>\n",
       "      <td>15.7</td>\n",
       "      <td>77.0</td>\n",
       "      <td>126.0</td>\n",
       "      <td>36.4</td>\n",
       "      <td>53.0</td>\n",
       "      <td>229.0</td>\n",
       "      <td>1</td>\n",
       "      <td>0</td>\n",
       "    </tr>\n",
       "    <tr>\n",
       "      <th>2</th>\n",
       "      <td>31</td>\n",
       "      <td>179.6</td>\n",
       "      <td>78.00</td>\n",
       "      <td>20.1</td>\n",
       "      <td>92.0</td>\n",
       "      <td>152.0</td>\n",
       "      <td>44.8</td>\n",
       "      <td>49.0</td>\n",
       "      <td>181.0</td>\n",
       "      <td>1</td>\n",
       "      <td>1</td>\n",
       "    </tr>\n",
       "    <tr>\n",
       "      <th>3</th>\n",
       "      <td>32</td>\n",
       "      <td>174.5</td>\n",
       "      <td>71.10</td>\n",
       "      <td>18.4</td>\n",
       "      <td>76.0</td>\n",
       "      <td>147.0</td>\n",
       "      <td>41.4</td>\n",
       "      <td>53.0</td>\n",
       "      <td>219.0</td>\n",
       "      <td>1</td>\n",
       "      <td>0</td>\n",
       "    </tr>\n",
       "    <tr>\n",
       "      <th>4</th>\n",
       "      <td>28</td>\n",
       "      <td>173.8</td>\n",
       "      <td>67.70</td>\n",
       "      <td>17.1</td>\n",
       "      <td>70.0</td>\n",
       "      <td>127.0</td>\n",
       "      <td>43.5</td>\n",
       "      <td>45.0</td>\n",
       "      <td>217.0</td>\n",
       "      <td>1</td>\n",
       "      <td>0</td>\n",
       "    </tr>\n",
       "    <tr>\n",
       "      <th>...</th>\n",
       "      <td>...</td>\n",
       "      <td>...</td>\n",
       "      <td>...</td>\n",
       "      <td>...</td>\n",
       "      <td>...</td>\n",
       "      <td>...</td>\n",
       "      <td>...</td>\n",
       "      <td>...</td>\n",
       "      <td>...</td>\n",
       "      <td>...</td>\n",
       "      <td>...</td>\n",
       "    </tr>\n",
       "    <tr>\n",
       "      <th>13388</th>\n",
       "      <td>25</td>\n",
       "      <td>172.1</td>\n",
       "      <td>71.80</td>\n",
       "      <td>16.2</td>\n",
       "      <td>74.0</td>\n",
       "      <td>141.0</td>\n",
       "      <td>35.8</td>\n",
       "      <td>47.0</td>\n",
       "      <td>198.0</td>\n",
       "      <td>1</td>\n",
       "      <td>1</td>\n",
       "    </tr>\n",
       "    <tr>\n",
       "      <th>13389</th>\n",
       "      <td>21</td>\n",
       "      <td>179.7</td>\n",
       "      <td>63.90</td>\n",
       "      <td>12.1</td>\n",
       "      <td>74.0</td>\n",
       "      <td>128.0</td>\n",
       "      <td>33.0</td>\n",
       "      <td>48.0</td>\n",
       "      <td>167.0</td>\n",
       "      <td>1</td>\n",
       "      <td>1</td>\n",
       "    </tr>\n",
       "    <tr>\n",
       "      <th>13390</th>\n",
       "      <td>39</td>\n",
       "      <td>177.2</td>\n",
       "      <td>80.50</td>\n",
       "      <td>20.1</td>\n",
       "      <td>78.0</td>\n",
       "      <td>132.0</td>\n",
       "      <td>63.5</td>\n",
       "      <td>45.0</td>\n",
       "      <td>229.0</td>\n",
       "      <td>1</td>\n",
       "      <td>0</td>\n",
       "    </tr>\n",
       "    <tr>\n",
       "      <th>13391</th>\n",
       "      <td>64</td>\n",
       "      <td>146.1</td>\n",
       "      <td>57.70</td>\n",
       "      <td>40.4</td>\n",
       "      <td>68.0</td>\n",
       "      <td>121.0</td>\n",
       "      <td>19.3</td>\n",
       "      <td>0.0</td>\n",
       "      <td>75.0</td>\n",
       "      <td>0</td>\n",
       "      <td>1</td>\n",
       "    </tr>\n",
       "    <tr>\n",
       "      <th>13392</th>\n",
       "      <td>34</td>\n",
       "      <td>164.0</td>\n",
       "      <td>66.10</td>\n",
       "      <td>19.5</td>\n",
       "      <td>82.0</td>\n",
       "      <td>150.0</td>\n",
       "      <td>35.9</td>\n",
       "      <td>51.0</td>\n",
       "      <td>180.0</td>\n",
       "      <td>1</td>\n",
       "      <td>1</td>\n",
       "    </tr>\n",
       "  </tbody>\n",
       "</table>\n",
       "<p>13393 rows × 11 columns</p>\n",
       "</div>"
      ],
      "text/plain": [
       "       age  height_cm  weight_kg  body fat_%  diastolic  systolic  gripForce  \\\n",
       "0       27      172.3      75.24        21.3       80.0     130.0       54.9   \n",
       "1       25      165.0      55.80        15.7       77.0     126.0       36.4   \n",
       "2       31      179.6      78.00        20.1       92.0     152.0       44.8   \n",
       "3       32      174.5      71.10        18.4       76.0     147.0       41.4   \n",
       "4       28      173.8      67.70        17.1       70.0     127.0       43.5   \n",
       "...    ...        ...        ...         ...        ...       ...        ...   \n",
       "13388   25      172.1      71.80        16.2       74.0     141.0       35.8   \n",
       "13389   21      179.7      63.90        12.1       74.0     128.0       33.0   \n",
       "13390   39      177.2      80.50        20.1       78.0     132.0       63.5   \n",
       "13391   64      146.1      57.70        40.4       68.0     121.0       19.3   \n",
       "13392   34      164.0      66.10        19.5       82.0     150.0       35.9   \n",
       "\n",
       "       sit-ups counts  broad jump_cm  gender  performance  \n",
       "0                60.0          217.0       1            1  \n",
       "1                53.0          229.0       1            0  \n",
       "2                49.0          181.0       1            1  \n",
       "3                53.0          219.0       1            0  \n",
       "4                45.0          217.0       1            0  \n",
       "...               ...            ...     ...          ...  \n",
       "13388            47.0          198.0       1            1  \n",
       "13389            48.0          167.0       1            1  \n",
       "13390            45.0          229.0       1            0  \n",
       "13391             0.0           75.0       0            1  \n",
       "13392            51.0          180.0       1            1  \n",
       "\n",
       "[13393 rows x 11 columns]"
      ]
     },
     "execution_count": 51,
     "metadata": {},
     "output_type": "execute_result"
    }
   ],
   "source": [
    "df"
   ]
  },
  {
   "cell_type": "code",
   "execution_count": 52,
   "id": "9c8e0eb9",
   "metadata": {
    "scrolled": true
   },
   "outputs": [
    {
     "data": {
      "text/plain": [
       "array([1, 0])"
      ]
     },
     "execution_count": 52,
     "metadata": {},
     "output_type": "execute_result"
    }
   ],
   "source": [
    "df['gender'].unique()\n",
    "#male = 1  female = 0\n",
    "# A = 0  B = 1 /A means best performance"
   ]
  },
  {
   "cell_type": "markdown",
   "id": "65d8c841",
   "metadata": {},
   "source": [
    "# Data visualization"
   ]
  },
  {
   "cell_type": "code",
   "execution_count": 53,
   "id": "23957769",
   "metadata": {
    "scrolled": false
   },
   "outputs": [
    {
     "data": {
      "text/html": [
       "<div>\n",
       "<style scoped>\n",
       "    .dataframe tbody tr th:only-of-type {\n",
       "        vertical-align: middle;\n",
       "    }\n",
       "\n",
       "    .dataframe tbody tr th {\n",
       "        vertical-align: top;\n",
       "    }\n",
       "\n",
       "    .dataframe thead th {\n",
       "        text-align: right;\n",
       "    }\n",
       "</style>\n",
       "<table border=\"1\" class=\"dataframe\">\n",
       "  <thead>\n",
       "    <tr style=\"text-align: right;\">\n",
       "      <th></th>\n",
       "      <th>age</th>\n",
       "      <th>gripForce</th>\n",
       "    </tr>\n",
       "  </thead>\n",
       "  <tbody>\n",
       "    <tr>\n",
       "      <th>0</th>\n",
       "      <td>21</td>\n",
       "      <td>35.130737</td>\n",
       "    </tr>\n",
       "    <tr>\n",
       "      <th>1</th>\n",
       "      <td>22</td>\n",
       "      <td>35.376806</td>\n",
       "    </tr>\n",
       "    <tr>\n",
       "      <th>2</th>\n",
       "      <td>23</td>\n",
       "      <td>36.150269</td>\n",
       "    </tr>\n",
       "    <tr>\n",
       "      <th>3</th>\n",
       "      <td>24</td>\n",
       "      <td>37.759806</td>\n",
       "    </tr>\n",
       "    <tr>\n",
       "      <th>4</th>\n",
       "      <td>25</td>\n",
       "      <td>38.580901</td>\n",
       "    </tr>\n",
       "    <tr>\n",
       "      <th>5</th>\n",
       "      <td>26</td>\n",
       "      <td>39.005564</td>\n",
       "    </tr>\n",
       "    <tr>\n",
       "      <th>6</th>\n",
       "      <td>27</td>\n",
       "      <td>39.432234</td>\n",
       "    </tr>\n",
       "    <tr>\n",
       "      <th>7</th>\n",
       "      <td>28</td>\n",
       "      <td>40.061214</td>\n",
       "    </tr>\n",
       "    <tr>\n",
       "      <th>8</th>\n",
       "      <td>29</td>\n",
       "      <td>40.635381</td>\n",
       "    </tr>\n",
       "    <tr>\n",
       "      <th>9</th>\n",
       "      <td>30</td>\n",
       "      <td>42.965241</td>\n",
       "    </tr>\n",
       "    <tr>\n",
       "      <th>10</th>\n",
       "      <td>31</td>\n",
       "      <td>40.665385</td>\n",
       "    </tr>\n",
       "    <tr>\n",
       "      <th>11</th>\n",
       "      <td>32</td>\n",
       "      <td>42.148727</td>\n",
       "    </tr>\n",
       "    <tr>\n",
       "      <th>12</th>\n",
       "      <td>33</td>\n",
       "      <td>40.787336</td>\n",
       "    </tr>\n",
       "    <tr>\n",
       "      <th>13</th>\n",
       "      <td>34</td>\n",
       "      <td>40.855895</td>\n",
       "    </tr>\n",
       "    <tr>\n",
       "      <th>14</th>\n",
       "      <td>35</td>\n",
       "      <td>40.487444</td>\n",
       "    </tr>\n",
       "    <tr>\n",
       "      <th>15</th>\n",
       "      <td>36</td>\n",
       "      <td>41.071967</td>\n",
       "    </tr>\n",
       "    <tr>\n",
       "      <th>16</th>\n",
       "      <td>37</td>\n",
       "      <td>39.588652</td>\n",
       "    </tr>\n",
       "    <tr>\n",
       "      <th>17</th>\n",
       "      <td>38</td>\n",
       "      <td>39.371304</td>\n",
       "    </tr>\n",
       "    <tr>\n",
       "      <th>18</th>\n",
       "      <td>39</td>\n",
       "      <td>37.914815</td>\n",
       "    </tr>\n",
       "    <tr>\n",
       "      <th>19</th>\n",
       "      <td>40</td>\n",
       "      <td>37.849763</td>\n",
       "    </tr>\n",
       "    <tr>\n",
       "      <th>20</th>\n",
       "      <td>41</td>\n",
       "      <td>37.023963</td>\n",
       "    </tr>\n",
       "    <tr>\n",
       "      <th>21</th>\n",
       "      <td>42</td>\n",
       "      <td>38.650279</td>\n",
       "    </tr>\n",
       "    <tr>\n",
       "      <th>22</th>\n",
       "      <td>43</td>\n",
       "      <td>37.271146</td>\n",
       "    </tr>\n",
       "    <tr>\n",
       "      <th>23</th>\n",
       "      <td>44</td>\n",
       "      <td>38.549419</td>\n",
       "    </tr>\n",
       "    <tr>\n",
       "      <th>24</th>\n",
       "      <td>45</td>\n",
       "      <td>36.326776</td>\n",
       "    </tr>\n",
       "    <tr>\n",
       "      <th>25</th>\n",
       "      <td>46</td>\n",
       "      <td>36.461878</td>\n",
       "    </tr>\n",
       "    <tr>\n",
       "      <th>26</th>\n",
       "      <td>47</td>\n",
       "      <td>35.813372</td>\n",
       "    </tr>\n",
       "    <tr>\n",
       "      <th>27</th>\n",
       "      <td>48</td>\n",
       "      <td>36.332653</td>\n",
       "    </tr>\n",
       "    <tr>\n",
       "      <th>28</th>\n",
       "      <td>49</td>\n",
       "      <td>33.979141</td>\n",
       "    </tr>\n",
       "    <tr>\n",
       "      <th>29</th>\n",
       "      <td>50</td>\n",
       "      <td>33.356614</td>\n",
       "    </tr>\n",
       "    <tr>\n",
       "      <th>30</th>\n",
       "      <td>51</td>\n",
       "      <td>34.642932</td>\n",
       "    </tr>\n",
       "    <tr>\n",
       "      <th>31</th>\n",
       "      <td>52</td>\n",
       "      <td>32.335714</td>\n",
       "    </tr>\n",
       "    <tr>\n",
       "      <th>32</th>\n",
       "      <td>53</td>\n",
       "      <td>32.451111</td>\n",
       "    </tr>\n",
       "    <tr>\n",
       "      <th>33</th>\n",
       "      <td>54</td>\n",
       "      <td>33.333553</td>\n",
       "    </tr>\n",
       "    <tr>\n",
       "      <th>34</th>\n",
       "      <td>55</td>\n",
       "      <td>32.288108</td>\n",
       "    </tr>\n",
       "    <tr>\n",
       "      <th>35</th>\n",
       "      <td>56</td>\n",
       "      <td>31.405076</td>\n",
       "    </tr>\n",
       "    <tr>\n",
       "      <th>36</th>\n",
       "      <td>57</td>\n",
       "      <td>31.421547</td>\n",
       "    </tr>\n",
       "    <tr>\n",
       "      <th>37</th>\n",
       "      <td>58</td>\n",
       "      <td>31.845000</td>\n",
       "    </tr>\n",
       "    <tr>\n",
       "      <th>38</th>\n",
       "      <td>59</td>\n",
       "      <td>32.401042</td>\n",
       "    </tr>\n",
       "    <tr>\n",
       "      <th>39</th>\n",
       "      <td>60</td>\n",
       "      <td>34.142609</td>\n",
       "    </tr>\n",
       "    <tr>\n",
       "      <th>40</th>\n",
       "      <td>61</td>\n",
       "      <td>32.299606</td>\n",
       "    </tr>\n",
       "    <tr>\n",
       "      <th>41</th>\n",
       "      <td>62</td>\n",
       "      <td>31.974340</td>\n",
       "    </tr>\n",
       "    <tr>\n",
       "      <th>42</th>\n",
       "      <td>63</td>\n",
       "      <td>32.635217</td>\n",
       "    </tr>\n",
       "    <tr>\n",
       "      <th>43</th>\n",
       "      <td>64</td>\n",
       "      <td>30.957209</td>\n",
       "    </tr>\n",
       "  </tbody>\n",
       "</table>\n",
       "</div>"
      ],
      "text/plain": [
       "    age  gripForce\n",
       "0    21  35.130737\n",
       "1    22  35.376806\n",
       "2    23  36.150269\n",
       "3    24  37.759806\n",
       "4    25  38.580901\n",
       "5    26  39.005564\n",
       "6    27  39.432234\n",
       "7    28  40.061214\n",
       "8    29  40.635381\n",
       "9    30  42.965241\n",
       "10   31  40.665385\n",
       "11   32  42.148727\n",
       "12   33  40.787336\n",
       "13   34  40.855895\n",
       "14   35  40.487444\n",
       "15   36  41.071967\n",
       "16   37  39.588652\n",
       "17   38  39.371304\n",
       "18   39  37.914815\n",
       "19   40  37.849763\n",
       "20   41  37.023963\n",
       "21   42  38.650279\n",
       "22   43  37.271146\n",
       "23   44  38.549419\n",
       "24   45  36.326776\n",
       "25   46  36.461878\n",
       "26   47  35.813372\n",
       "27   48  36.332653\n",
       "28   49  33.979141\n",
       "29   50  33.356614\n",
       "30   51  34.642932\n",
       "31   52  32.335714\n",
       "32   53  32.451111\n",
       "33   54  33.333553\n",
       "34   55  32.288108\n",
       "35   56  31.405076\n",
       "36   57  31.421547\n",
       "37   58  31.845000\n",
       "38   59  32.401042\n",
       "39   60  34.142609\n",
       "40   61  32.299606\n",
       "41   62  31.974340\n",
       "42   63  32.635217\n",
       "43   64  30.957209"
      ]
     },
     "execution_count": 53,
     "metadata": {},
     "output_type": "execute_result"
    },
    {
     "data": {
      "image/png": "[encoded data removed]",
      "text/plain": [
       "<Figure size 720x1080 with 1 Axes>"
      ]
     },
     "metadata": {
      "needs_background": "light"
     },
     "output_type": "display_data"
    }
   ],
   "source": [
    "import seaborn as sns\n",
    "plt.figure(figsize=(10,15))\n",
    "sns.barplot(x='age', y = 'gripForce', data=df)\n",
    "df.groupby('age', as_index=False).gripForce.mean()"
   ]
  },
  {
   "cell_type": "markdown",
   "id": "5d6b7445",
   "metadata": {},
   "source": [
    "We can see that our grip strength decreases with age where our maximum potential is between 30 - 40 of age."
   ]
  },
  {
   "cell_type": "code",
   "execution_count": 54,
   "id": "14e4e6f4",
   "metadata": {
    "scrolled": false
   },
   "outputs": [
    {
     "data": {
      "text/html": [
       "<div>\n",
       "<style scoped>\n",
       "    .dataframe tbody tr th:only-of-type {\n",
       "        vertical-align: middle;\n",
       "    }\n",
       "\n",
       "    .dataframe tbody tr th {\n",
       "        vertical-align: top;\n",
       "    }\n",
       "\n",
       "    .dataframe thead th {\n",
       "        text-align: right;\n",
       "    }\n",
       "</style>\n",
       "<table border=\"1\" class=\"dataframe\">\n",
       "  <thead>\n",
       "    <tr style=\"text-align: right;\">\n",
       "      <th></th>\n",
       "      <th>body fat_%</th>\n",
       "      <th>gripForce</th>\n",
       "    </tr>\n",
       "  </thead>\n",
       "  <tbody>\n",
       "    <tr>\n",
       "      <th>0</th>\n",
       "      <td>3.0</td>\n",
       "      <td>53.030000</td>\n",
       "    </tr>\n",
       "    <tr>\n",
       "      <th>1</th>\n",
       "      <td>3.5</td>\n",
       "      <td>34.066667</td>\n",
       "    </tr>\n",
       "    <tr>\n",
       "      <th>2</th>\n",
       "      <td>4.0</td>\n",
       "      <td>56.300000</td>\n",
       "    </tr>\n",
       "    <tr>\n",
       "      <th>3</th>\n",
       "      <td>4.5</td>\n",
       "      <td>53.000000</td>\n",
       "    </tr>\n",
       "    <tr>\n",
       "      <th>4</th>\n",
       "      <td>4.7</td>\n",
       "      <td>65.000000</td>\n",
       "    </tr>\n",
       "    <tr>\n",
       "      <th>...</th>\n",
       "      <td>...</td>\n",
       "      <td>...</td>\n",
       "    </tr>\n",
       "    <tr>\n",
       "      <th>523</th>\n",
       "      <td>50.3</td>\n",
       "      <td>20.100000</td>\n",
       "    </tr>\n",
       "    <tr>\n",
       "      <th>524</th>\n",
       "      <td>50.6</td>\n",
       "      <td>36.900000</td>\n",
       "    </tr>\n",
       "    <tr>\n",
       "      <th>525</th>\n",
       "      <td>53.5</td>\n",
       "      <td>24.400000</td>\n",
       "    </tr>\n",
       "    <tr>\n",
       "      <th>526</th>\n",
       "      <td>54.9</td>\n",
       "      <td>37.500000</td>\n",
       "    </tr>\n",
       "    <tr>\n",
       "      <th>527</th>\n",
       "      <td>78.4</td>\n",
       "      <td>44.900000</td>\n",
       "    </tr>\n",
       "  </tbody>\n",
       "</table>\n",
       "<p>528 rows × 2 columns</p>\n",
       "</div>"
      ],
      "text/plain": [
       "     body fat_%  gripForce\n",
       "0           3.0  53.030000\n",
       "1           3.5  34.066667\n",
       "2           4.0  56.300000\n",
       "3           4.5  53.000000\n",
       "4           4.7  65.000000\n",
       "..          ...        ...\n",
       "523        50.3  20.100000\n",
       "524        50.6  36.900000\n",
       "525        53.5  24.400000\n",
       "526        54.9  37.500000\n",
       "527        78.4  44.900000\n",
       "\n",
       "[528 rows x 2 columns]"
      ]
     },
     "execution_count": 54,
     "metadata": {},
     "output_type": "execute_result"
    },
    {
     "data": {
      "image/png": "[encoded data removed]",
      "text/plain": [
       "<Figure size 432x288 with 1 Axes>"
      ]
     },
     "metadata": {
      "needs_background": "light"
     },
     "output_type": "display_data"
    }
   ],
   "source": [
    "sns.barplot(x='gripForce', y = 'body fat_%', data=df)\n",
    "# plt.figure(figsize=(30,30)) #Fig size was still conjusted \n",
    "df.groupby('body fat_%', as_index=False).gripForce.mean()"
   ]
  },
  {
   "cell_type": "markdown",
   "id": "e075e5c5",
   "metadata": {},
   "source": [
    "We can see the more fat our body contains our grip strength becomes weaker while its opposite when we have low body fat. Our grip strength increase when our fat percent is low."
   ]
  },
  {
   "cell_type": "code",
   "execution_count": 55,
   "id": "c6542eb2",
   "metadata": {
    "scrolled": true
   },
   "outputs": [
    {
     "data": {
      "text/html": [
       "<div>\n",
       "<style scoped>\n",
       "    .dataframe tbody tr th:only-of-type {\n",
       "        vertical-align: middle;\n",
       "    }\n",
       "\n",
       "    .dataframe tbody tr th {\n",
       "        vertical-align: top;\n",
       "    }\n",
       "\n",
       "    .dataframe thead th {\n",
       "        text-align: right;\n",
       "    }\n",
       "</style>\n",
       "<table border=\"1\" class=\"dataframe\">\n",
       "  <thead>\n",
       "    <tr style=\"text-align: right;\">\n",
       "      <th></th>\n",
       "      <th>gender</th>\n",
       "      <th>gripForce</th>\n",
       "    </tr>\n",
       "  </thead>\n",
       "  <tbody>\n",
       "    <tr>\n",
       "      <th>0</th>\n",
       "      <td>0</td>\n",
       "      <td>25.817994</td>\n",
       "    </tr>\n",
       "    <tr>\n",
       "      <th>1</th>\n",
       "      <td>1</td>\n",
       "      <td>43.448420</td>\n",
       "    </tr>\n",
       "  </tbody>\n",
       "</table>\n",
       "</div>"
      ],
      "text/plain": [
       "   gender  gripForce\n",
       "0       0  25.817994\n",
       "1       1  43.448420"
      ]
     },
     "execution_count": 55,
     "metadata": {},
     "output_type": "execute_result"
    },
    {
     "data": {
      "image/png": "[encoded data removed]",
      "text/plain": [
       "<Figure size 432x288 with 1 Axes>"
      ]
     },
     "metadata": {
      "needs_background": "light"
     },
     "output_type": "display_data"
    }
   ],
   "source": [
    "sns.barplot(x='gender', y = 'gripForce', data=df)\n",
    "df.groupby('gender', as_index=False).gripForce.mean()"
   ]
  },
  {
   "cell_type": "markdown",
   "id": "3f16a912",
   "metadata": {},
   "source": [
    "We can see in above graph that male = 1 have higher gripforce than female = 0. Male have about 40 where as female is around 25"
   ]
  },
  {
   "cell_type": "code",
   "execution_count": 56,
   "id": "bf5056b3",
   "metadata": {
    "scrolled": true
   },
   "outputs": [
    {
     "data": {
      "text/plain": [
       "<AxesSubplot:xlabel='gender', ylabel='sit-ups counts'>"
      ]
     },
     "execution_count": 56,
     "metadata": {},
     "output_type": "execute_result"
    },
    {
     "data": {
      "image/png": "[encoded data removed]",
      "text/plain": [
       "<Figure size 432x288 with 1 Axes>"
      ]
     },
     "metadata": {
      "needs_background": "light"
     },
     "output_type": "display_data"
    }
   ],
   "source": [
    "sns.barplot(x='gender', y = 'sit-ups counts', data=df)\n",
    "#df.groupby('sit-ups counts', as_index=False).gender.mean()"
   ]
  },
  {
   "cell_type": "markdown",
   "id": "fe9f10b3",
   "metadata": {},
   "source": [
    "We can see male have higher number of situp count so we can conclude male have high body performance compared to female"
   ]
  },
  {
   "cell_type": "code",
   "execution_count": 57,
   "id": "38998ab5",
   "metadata": {
    "scrolled": true
   },
   "outputs": [
    {
     "data": {
      "text/plain": [
       "<AxesSubplot:xlabel='gender', ylabel='performance'>"
      ]
     },
     "execution_count": 57,
     "metadata": {},
     "output_type": "execute_result"
    },
    {
     "data": {
      "image/png": "[encoded data removed]",
      "text/plain": [
       "<Figure size 432x288 with 1 Axes>"
      ]
     },
     "metadata": {
      "needs_background": "light"
     },
     "output_type": "display_data"
    }
   ],
   "source": [
    "sns.barplot(x='gender', y = 'performance', data=df)"
   ]
  },
  {
   "cell_type": "markdown",
   "id": "fd6e3148",
   "metadata": {},
   "source": [
    "We can see higher body performance of male and female body performance is little lower than male"
   ]
  },
  {
   "cell_type": "code",
   "execution_count": 58,
   "id": "acccfa72",
   "metadata": {
    "scrolled": true
   },
   "outputs": [
    {
     "data": {
      "text/plain": [
       "<AxesSubplot:xlabel='performance', ylabel='sit-ups counts'>"
      ]
     },
     "execution_count": 58,
     "metadata": {},
     "output_type": "execute_result"
    },
    {
     "data": {
      "image/png": "[encoded data removed]",
      "text/plain": [
       "<Figure size 432x288 with 1 Axes>"
      ]
     },
     "metadata": {
      "needs_background": "light"
     },
     "output_type": "display_data"
    }
   ],
   "source": [
    "sns.barplot(x='performance', y = 'sit-ups counts', data=df)"
   ]
  },
  {
   "cell_type": "markdown",
   "id": "8affa570",
   "metadata": {},
   "source": [
    "We can see Higher the body performance higher the number of situp count"
   ]
  },
  {
   "cell_type": "markdown",
   "id": "b43bac10",
   "metadata": {},
   "source": [
    "# Build Primary Model "
   ]
  },
  {
   "cell_type": "code",
   "execution_count": 59,
   "id": "69eb714a",
   "metadata": {},
   "outputs": [],
   "source": [
    "features = df.drop('performance', axis=1)\n",
    "target = df['performance']"
   ]
  },
  {
   "cell_type": "code",
   "execution_count": 60,
   "id": "fcb14352",
   "metadata": {},
   "outputs": [],
   "source": [
    "assert features.shape[0] == target.shape[0], \" len(features) == len(target)\""
   ]
  },
  {
   "cell_type": "code",
   "execution_count": 61,
   "id": "907c2564",
   "metadata": {
    "scrolled": false
   },
   "outputs": [
    {
     "data": {
      "text/html": [
       "<div>\n",
       "<style scoped>\n",
       "    .dataframe tbody tr th:only-of-type {\n",
       "        vertical-align: middle;\n",
       "    }\n",
       "\n",
       "    .dataframe tbody tr th {\n",
       "        vertical-align: top;\n",
       "    }\n",
       "\n",
       "    .dataframe thead th {\n",
       "        text-align: right;\n",
       "    }\n",
       "</style>\n",
       "<table border=\"1\" class=\"dataframe\">\n",
       "  <thead>\n",
       "    <tr style=\"text-align: right;\">\n",
       "      <th></th>\n",
       "      <th>age</th>\n",
       "      <th>height_cm</th>\n",
       "      <th>weight_kg</th>\n",
       "      <th>body fat_%</th>\n",
       "      <th>diastolic</th>\n",
       "      <th>systolic</th>\n",
       "      <th>gripForce</th>\n",
       "      <th>sit-ups counts</th>\n",
       "      <th>broad jump_cm</th>\n",
       "      <th>gender</th>\n",
       "    </tr>\n",
       "  </thead>\n",
       "  <tbody>\n",
       "    <tr>\n",
       "      <th>0</th>\n",
       "      <td>27</td>\n",
       "      <td>172.3</td>\n",
       "      <td>75.24</td>\n",
       "      <td>21.3</td>\n",
       "      <td>80.0</td>\n",
       "      <td>130.0</td>\n",
       "      <td>54.9</td>\n",
       "      <td>60.0</td>\n",
       "      <td>217.0</td>\n",
       "      <td>1</td>\n",
       "    </tr>\n",
       "    <tr>\n",
       "      <th>1</th>\n",
       "      <td>25</td>\n",
       "      <td>165.0</td>\n",
       "      <td>55.80</td>\n",
       "      <td>15.7</td>\n",
       "      <td>77.0</td>\n",
       "      <td>126.0</td>\n",
       "      <td>36.4</td>\n",
       "      <td>53.0</td>\n",
       "      <td>229.0</td>\n",
       "      <td>1</td>\n",
       "    </tr>\n",
       "    <tr>\n",
       "      <th>2</th>\n",
       "      <td>31</td>\n",
       "      <td>179.6</td>\n",
       "      <td>78.00</td>\n",
       "      <td>20.1</td>\n",
       "      <td>92.0</td>\n",
       "      <td>152.0</td>\n",
       "      <td>44.8</td>\n",
       "      <td>49.0</td>\n",
       "      <td>181.0</td>\n",
       "      <td>1</td>\n",
       "    </tr>\n",
       "    <tr>\n",
       "      <th>3</th>\n",
       "      <td>32</td>\n",
       "      <td>174.5</td>\n",
       "      <td>71.10</td>\n",
       "      <td>18.4</td>\n",
       "      <td>76.0</td>\n",
       "      <td>147.0</td>\n",
       "      <td>41.4</td>\n",
       "      <td>53.0</td>\n",
       "      <td>219.0</td>\n",
       "      <td>1</td>\n",
       "    </tr>\n",
       "    <tr>\n",
       "      <th>4</th>\n",
       "      <td>28</td>\n",
       "      <td>173.8</td>\n",
       "      <td>67.70</td>\n",
       "      <td>17.1</td>\n",
       "      <td>70.0</td>\n",
       "      <td>127.0</td>\n",
       "      <td>43.5</td>\n",
       "      <td>45.0</td>\n",
       "      <td>217.0</td>\n",
       "      <td>1</td>\n",
       "    </tr>\n",
       "    <tr>\n",
       "      <th>...</th>\n",
       "      <td>...</td>\n",
       "      <td>...</td>\n",
       "      <td>...</td>\n",
       "      <td>...</td>\n",
       "      <td>...</td>\n",
       "      <td>...</td>\n",
       "      <td>...</td>\n",
       "      <td>...</td>\n",
       "      <td>...</td>\n",
       "      <td>...</td>\n",
       "    </tr>\n",
       "    <tr>\n",
       "      <th>13388</th>\n",
       "      <td>25</td>\n",
       "      <td>172.1</td>\n",
       "      <td>71.80</td>\n",
       "      <td>16.2</td>\n",
       "      <td>74.0</td>\n",
       "      <td>141.0</td>\n",
       "      <td>35.8</td>\n",
       "      <td>47.0</td>\n",
       "      <td>198.0</td>\n",
       "      <td>1</td>\n",
       "    </tr>\n",
       "    <tr>\n",
       "      <th>13389</th>\n",
       "      <td>21</td>\n",
       "      <td>179.7</td>\n",
       "      <td>63.90</td>\n",
       "      <td>12.1</td>\n",
       "      <td>74.0</td>\n",
       "      <td>128.0</td>\n",
       "      <td>33.0</td>\n",
       "      <td>48.0</td>\n",
       "      <td>167.0</td>\n",
       "      <td>1</td>\n",
       "    </tr>\n",
       "    <tr>\n",
       "      <th>13390</th>\n",
       "      <td>39</td>\n",
       "      <td>177.2</td>\n",
       "      <td>80.50</td>\n",
       "      <td>20.1</td>\n",
       "      <td>78.0</td>\n",
       "      <td>132.0</td>\n",
       "      <td>63.5</td>\n",
       "      <td>45.0</td>\n",
       "      <td>229.0</td>\n",
       "      <td>1</td>\n",
       "    </tr>\n",
       "    <tr>\n",
       "      <th>13391</th>\n",
       "      <td>64</td>\n",
       "      <td>146.1</td>\n",
       "      <td>57.70</td>\n",
       "      <td>40.4</td>\n",
       "      <td>68.0</td>\n",
       "      <td>121.0</td>\n",
       "      <td>19.3</td>\n",
       "      <td>0.0</td>\n",
       "      <td>75.0</td>\n",
       "      <td>0</td>\n",
       "    </tr>\n",
       "    <tr>\n",
       "      <th>13392</th>\n",
       "      <td>34</td>\n",
       "      <td>164.0</td>\n",
       "      <td>66.10</td>\n",
       "      <td>19.5</td>\n",
       "      <td>82.0</td>\n",
       "      <td>150.0</td>\n",
       "      <td>35.9</td>\n",
       "      <td>51.0</td>\n",
       "      <td>180.0</td>\n",
       "      <td>1</td>\n",
       "    </tr>\n",
       "  </tbody>\n",
       "</table>\n",
       "<p>13393 rows × 10 columns</p>\n",
       "</div>"
      ],
      "text/plain": [
       "       age  height_cm  weight_kg  body fat_%  diastolic  systolic  gripForce  \\\n",
       "0       27      172.3      75.24        21.3       80.0     130.0       54.9   \n",
       "1       25      165.0      55.80        15.7       77.0     126.0       36.4   \n",
       "2       31      179.6      78.00        20.1       92.0     152.0       44.8   \n",
       "3       32      174.5      71.10        18.4       76.0     147.0       41.4   \n",
       "4       28      173.8      67.70        17.1       70.0     127.0       43.5   \n",
       "...    ...        ...        ...         ...        ...       ...        ...   \n",
       "13388   25      172.1      71.80        16.2       74.0     141.0       35.8   \n",
       "13389   21      179.7      63.90        12.1       74.0     128.0       33.0   \n",
       "13390   39      177.2      80.50        20.1       78.0     132.0       63.5   \n",
       "13391   64      146.1      57.70        40.4       68.0     121.0       19.3   \n",
       "13392   34      164.0      66.10        19.5       82.0     150.0       35.9   \n",
       "\n",
       "       sit-ups counts  broad jump_cm  gender  \n",
       "0                60.0          217.0       1  \n",
       "1                53.0          229.0       1  \n",
       "2                49.0          181.0       1  \n",
       "3                53.0          219.0       1  \n",
       "4                45.0          217.0       1  \n",
       "...               ...            ...     ...  \n",
       "13388            47.0          198.0       1  \n",
       "13389            48.0          167.0       1  \n",
       "13390            45.0          229.0       1  \n",
       "13391             0.0           75.0       0  \n",
       "13392            51.0          180.0       1  \n",
       "\n",
       "[13393 rows x 10 columns]"
      ]
     },
     "execution_count": 61,
     "metadata": {},
     "output_type": "execute_result"
    }
   ],
   "source": [
    "features"
   ]
  },
  {
   "cell_type": "code",
   "execution_count": 62,
   "id": "65f09ec1",
   "metadata": {},
   "outputs": [
    {
     "data": {
      "text/plain": [
       "0        1\n",
       "1        0\n",
       "2        1\n",
       "3        0\n",
       "4        0\n",
       "        ..\n",
       "13388    1\n",
       "13389    1\n",
       "13390    0\n",
       "13391    1\n",
       "13392    1\n",
       "Name: performance, Length: 13393, dtype: int32"
      ]
     },
     "execution_count": 62,
     "metadata": {},
     "output_type": "execute_result"
    }
   ],
   "source": [
    "target"
   ]
  },
  {
   "cell_type": "markdown",
   "id": "d2d91823",
   "metadata": {},
   "source": [
    "# Train Test Split"
   ]
  },
  {
   "cell_type": "code",
   "execution_count": 63,
   "id": "ec0fa257",
   "metadata": {},
   "outputs": [],
   "source": [
    "# import necessary  library from sklearn\n",
    "from sklearn.model_selection import train_test_split\n",
    "\n",
    "# splitting the dataset\n",
    "X_train, X_test, y_train, y_test = train_test_split(features, target, test_size=0.20, random_state=42)"
   ]
  },
  {
   "cell_type": "markdown",
   "id": "c03e1019",
   "metadata": {},
   "source": [
    "# Implementing Logistic regression"
   ]
  },
  {
   "cell_type": "code",
   "execution_count": 64,
   "id": "a1d63d9f",
   "metadata": {},
   "outputs": [
    {
     "data": {
      "text/plain": [
       "LogisticRegression(max_iter=1000)"
      ]
     },
     "execution_count": 64,
     "metadata": {},
     "output_type": "execute_result"
    }
   ],
   "source": [
    "#Fitting the Logistic Regression model\n",
    "from sklearn.linear_model import LogisticRegression\n",
    "lr  = LogisticRegression(solver='lbfgs', max_iter=1000)\n",
    "lr.fit(X_train, y_train)"
   ]
  },
  {
   "cell_type": "code",
   "execution_count": 65,
   "id": "8ee4aa61",
   "metadata": {},
   "outputs": [
    {
     "data": {
      "text/plain": [
       "array([1, 0, 0, ..., 0, 0, 1])"
      ]
     },
     "execution_count": 65,
     "metadata": {},
     "output_type": "execute_result"
    }
   ],
   "source": [
    "# prediction of test data\n",
    "y_pred = lr.predict(X_test)\n",
    "y_pred"
   ]
  },
  {
   "cell_type": "code",
   "execution_count": 66,
   "id": "66aa33ee",
   "metadata": {
    "scrolled": false
   },
   "outputs": [
    {
     "name": "stdout",
     "output_type": "stream",
     "text": [
      "              precision    recall  f1-score   support\n",
      "\n",
      "           0       0.78      0.80      0.79      1347\n",
      "           1       0.80      0.78      0.79      1332\n",
      "\n",
      "    accuracy                           0.79      2679\n",
      "   macro avg       0.79      0.79      0.79      2679\n",
      "weighted avg       0.79      0.79      0.79      2679\n",
      "\n"
     ]
    },
    {
     "data": {
      "image/png": "[encoded data removed]",
      "text/plain": [
       "<Figure size 432x288 with 2 Axes>"
      ]
     },
     "metadata": {
      "needs_background": "light"
     },
     "output_type": "display_data"
    }
   ],
   "source": [
    "#Confusion matrix and classification report\n",
    "from sklearn import metrics \n",
    "import seaborn as sns\n",
    "from sklearn.metrics import classification_report, confusion_matrix\n",
    "matrix = confusion_matrix(y_test, y_pred)\n",
    "sns.heatmap(matrix, annot=True, fmt=\"d\")\n",
    "plt.title('Confusion Matrix')\n",
    "plt.xlabel('Predicted')\n",
    "plt.ylabel('Actual')\n",
    "print(classification_report(y_test, y_pred))"
   ]
  },
  {
   "cell_type": "markdown",
   "id": "1d8af058",
   "metadata": {},
   "source": [
    "from above confusion matrix my model have predicted following values :\n",
    "\n",
    "True Positive = 1081 \n",
    "\n",
    "False Negative 266\n",
    "\n",
    "False Postive = 299\n",
    "\n",
    "True Negative = 1033"
   ]
  },
  {
   "cell_type": "code",
   "execution_count": 67,
   "id": "e298484b",
   "metadata": {},
   "outputs": [
    {
     "data": {
      "text/plain": [
       "0.7891004106009705"
      ]
     },
     "execution_count": 67,
     "metadata": {},
     "output_type": "execute_result"
    }
   ],
   "source": [
    "lr_scr=lr.score(X_test,y_test)\n",
    "lr_scr"
   ]
  },
  {
   "cell_type": "markdown",
   "id": "d1a06407",
   "metadata": {},
   "source": [
    "# Implementing KNN algorithm"
   ]
  },
  {
   "cell_type": "code",
   "execution_count": 68,
   "id": "d8ba2438",
   "metadata": {
    "scrolled": false
   },
   "outputs": [
    {
     "name": "stdout",
     "output_type": "stream",
     "text": [
      "              precision    recall  f1-score   support\n",
      "\n",
      "           0       0.73      0.80      0.76      1347\n",
      "           1       0.78      0.70      0.74      1332\n",
      "\n",
      "    accuracy                           0.75      2679\n",
      "   macro avg       0.75      0.75      0.75      2679\n",
      "weighted avg       0.75      0.75      0.75      2679\n",
      "\n"
     ]
    },
    {
     "data": {
      "image/png": "[encoded data removed]",
      "text/plain": [
       "<Figure size 432x288 with 2 Axes>"
      ]
     },
     "metadata": {
      "needs_background": "light"
     },
     "output_type": "display_data"
    }
   ],
   "source": [
    "#importing the knn from sklearn \n",
    "from sklearn.neighbors import KNeighborsClassifier\n",
    "\n",
    "knn = KNeighborsClassifier (n_neighbors = 5)\n",
    "knn.fit(X_train, y_train)\n",
    "y_pred_knn = knn.predict(X_test)\n",
    "\n",
    "from sklearn.metrics import classification_report, confusion_matrix\n",
    "matrix = confusion_matrix(y_test, y_pred_knn)\n",
    "sns.heatmap(matrix, annot=True, fmt=\"d\")\n",
    "plt.title('Confusion Matrix')\n",
    "plt.xlabel('Predicted')\n",
    "plt.ylabel('Actual')\n",
    "print(classification_report(y_test,y_pred_knn))"
   ]
  },
  {
   "cell_type": "markdown",
   "id": "95373486",
   "metadata": {},
   "source": [
    "from above confusion matrix my model have predicted following values :\n",
    "\n",
    "True Positive = 1084\n",
    "\n",
    "False Negative 263\n",
    "\n",
    "False Postive = 405\n",
    "\n",
    "True Negative = 927"
   ]
  },
  {
   "cell_type": "code",
   "execution_count": 69,
   "id": "37bc9e7e",
   "metadata": {},
   "outputs": [
    {
     "data": {
      "text/plain": [
       "0.7506532288167227"
      ]
     },
     "execution_count": 69,
     "metadata": {},
     "output_type": "execute_result"
    }
   ],
   "source": [
    "knn_scr=knn.score(X_test,y_test)\n",
    "knn_scr"
   ]
  },
  {
   "cell_type": "code",
   "execution_count": 70,
   "id": "c248e7a7",
   "metadata": {},
   "outputs": [
    {
     "data": {
      "text/plain": [
       "array([1, 0, 0, ..., 0, 0, 1])"
      ]
     },
     "execution_count": 70,
     "metadata": {},
     "output_type": "execute_result"
    }
   ],
   "source": [
    "y_pred_knn"
   ]
  },
  {
   "cell_type": "markdown",
   "id": "0708e1cc",
   "metadata": {},
   "source": [
    "# Cross-Validation and Hyper-parameter tuning"
   ]
  },
  {
   "cell_type": "code",
   "execution_count": 71,
   "id": "a89ae58e",
   "metadata": {},
   "outputs": [
    {
     "data": {
      "text/plain": [
       "GridSearchCV(cv=5, estimator=KNeighborsClassifier(),\n",
       "             param_grid={'n_neighbors': array([ 1,  2,  3,  4,  5,  6,  7,  8,  9, 10, 11, 12, 13, 14, 15, 16, 17,\n",
       "       18, 19, 20, 21, 22, 23, 24, 25, 26, 27, 28, 29, 30, 31, 32, 33, 34,\n",
       "       35, 36, 37, 38, 39, 40, 41, 42, 43, 44, 45, 46, 47, 48, 49, 50, 51,\n",
       "       52, 53, 54, 55, 56, 57, 58, 59, 60, 61, 62, 63, 64, 65, 66, 67, 68,\n",
       "       69, 70, 71, 72, 73, 74, 75, 76, 77, 78, 79, 80, 81, 82, 83, 84, 85,\n",
       "       86, 87, 88, 89, 90, 91, 92, 93, 94, 95, 96, 97, 98, 99])})"
      ]
     },
     "execution_count": 71,
     "metadata": {},
     "output_type": "execute_result"
    }
   ],
   "source": [
    "#import GridsearchCV from sklearn\n",
    "from sklearn.model_selection import GridSearchCV\n",
    "\n",
    "# making the dicitionary named param_grid to store the value of the hyperparameter\n",
    "param_grid = {'n_neighbors':np.arange(1,100)}\n",
    "knn = KNeighborsClassifier()\n",
    "\n",
    "knn_cv= GridSearchCV(knn,param_grid,cv=5)\n",
    "knn_cv.fit(X_train,y_train)"
   ]
  },
  {
   "cell_type": "code",
   "execution_count": 72,
   "id": "890cb861",
   "metadata": {},
   "outputs": [
    {
     "data": {
      "text/plain": [
       "0.7662879119605533"
      ]
     },
     "execution_count": 72,
     "metadata": {},
     "output_type": "execute_result"
    }
   ],
   "source": [
    "knn_hyper_scr = knn_cv.best_score_\n",
    "knn_cv.best_score_"
   ]
  },
  {
   "cell_type": "code",
   "execution_count": 73,
   "id": "5a0b27c8",
   "metadata": {},
   "outputs": [
    {
     "data": {
      "text/plain": [
       "{'n_neighbors': 21}"
      ]
     },
     "execution_count": 73,
     "metadata": {},
     "output_type": "execute_result"
    }
   ],
   "source": [
    "knn_cv.best_params_"
   ]
  },
  {
   "cell_type": "code",
   "execution_count": 74,
   "id": "f5bef3d3",
   "metadata": {},
   "outputs": [
    {
     "data": {
      "text/plain": [
       "GridSearchCV(cv=3, estimator=LogisticRegression(),\n",
       "             param_grid={'C': [0.001, 0.01, 0.1, 1, 10, 100, 1000]})"
      ]
     },
     "execution_count": 74,
     "metadata": {},
     "output_type": "execute_result"
    }
   ],
   "source": [
    "# CV for logistic regression\n",
    "\n",
    "# importing gridsearch CV\n",
    "from sklearn.model_selection import GridSearchCV\n",
    "param_grid = {'C': [0.001, 0.01, 0.1, 1, 10, 100, 1000]}\n",
    "\n",
    "lr_cv = GridSearchCV(LogisticRegression(), param_grid, cv =3)\n",
    "lr_cv.fit(X_train, y_train)"
   ]
  },
  {
   "cell_type": "code",
   "execution_count": 75,
   "id": "d823c77a",
   "metadata": {},
   "outputs": [
    {
     "data": {
      "text/plain": [
       "{'C': 100}"
      ]
     },
     "execution_count": 75,
     "metadata": {},
     "output_type": "execute_result"
    }
   ],
   "source": [
    "lr_cv.best_params_"
   ]
  },
  {
   "cell_type": "code",
   "execution_count": 76,
   "id": "c4da4b8e",
   "metadata": {},
   "outputs": [
    {
     "data": {
      "text/plain": [
       "0.7839277070097982"
      ]
     },
     "execution_count": 76,
     "metadata": {},
     "output_type": "execute_result"
    }
   ],
   "source": [
    "lr_hyper_scr = lr_cv.best_score_\n",
    "lr_cv.best_score_"
   ]
  },
  {
   "cell_type": "code",
   "execution_count": 80,
   "id": "0e7d9ba5",
   "metadata": {},
   "outputs": [
    {
     "data": {
      "text/html": [
       "<div>\n",
       "<style scoped>\n",
       "    .dataframe tbody tr th:only-of-type {\n",
       "        vertical-align: middle;\n",
       "    }\n",
       "\n",
       "    .dataframe tbody tr th {\n",
       "        vertical-align: top;\n",
       "    }\n",
       "\n",
       "    .dataframe thead th {\n",
       "        text-align: right;\n",
       "    }\n",
       "</style>\n",
       "<table border=\"1\" class=\"dataframe\">\n",
       "  <thead>\n",
       "    <tr style=\"text-align: right;\">\n",
       "      <th></th>\n",
       "      <th>age</th>\n",
       "      <th>height_cm</th>\n",
       "      <th>weight_kg</th>\n",
       "      <th>body fat_%</th>\n",
       "      <th>diastolic</th>\n",
       "      <th>systolic</th>\n",
       "      <th>gripForce</th>\n",
       "      <th>sit-ups counts</th>\n",
       "      <th>broad jump_cm</th>\n",
       "      <th>gender</th>\n",
       "      <th>performance</th>\n",
       "    </tr>\n",
       "  </thead>\n",
       "  <tbody>\n",
       "    <tr>\n",
       "      <th>0</th>\n",
       "      <td>27</td>\n",
       "      <td>172.3</td>\n",
       "      <td>75.24</td>\n",
       "      <td>21.3</td>\n",
       "      <td>80.0</td>\n",
       "      <td>130.0</td>\n",
       "      <td>54.9</td>\n",
       "      <td>60.0</td>\n",
       "      <td>217.0</td>\n",
       "      <td>1</td>\n",
       "      <td>1</td>\n",
       "    </tr>\n",
       "    <tr>\n",
       "      <th>1</th>\n",
       "      <td>25</td>\n",
       "      <td>165.0</td>\n",
       "      <td>55.80</td>\n",
       "      <td>15.7</td>\n",
       "      <td>77.0</td>\n",
       "      <td>126.0</td>\n",
       "      <td>36.4</td>\n",
       "      <td>53.0</td>\n",
       "      <td>229.0</td>\n",
       "      <td>1</td>\n",
       "      <td>0</td>\n",
       "    </tr>\n",
       "    <tr>\n",
       "      <th>2</th>\n",
       "      <td>31</td>\n",
       "      <td>179.6</td>\n",
       "      <td>78.00</td>\n",
       "      <td>20.1</td>\n",
       "      <td>92.0</td>\n",
       "      <td>152.0</td>\n",
       "      <td>44.8</td>\n",
       "      <td>49.0</td>\n",
       "      <td>181.0</td>\n",
       "      <td>1</td>\n",
       "      <td>1</td>\n",
       "    </tr>\n",
       "    <tr>\n",
       "      <th>3</th>\n",
       "      <td>32</td>\n",
       "      <td>174.5</td>\n",
       "      <td>71.10</td>\n",
       "      <td>18.4</td>\n",
       "      <td>76.0</td>\n",
       "      <td>147.0</td>\n",
       "      <td>41.4</td>\n",
       "      <td>53.0</td>\n",
       "      <td>219.0</td>\n",
       "      <td>1</td>\n",
       "      <td>0</td>\n",
       "    </tr>\n",
       "    <tr>\n",
       "      <th>4</th>\n",
       "      <td>28</td>\n",
       "      <td>173.8</td>\n",
       "      <td>67.70</td>\n",
       "      <td>17.1</td>\n",
       "      <td>70.0</td>\n",
       "      <td>127.0</td>\n",
       "      <td>43.5</td>\n",
       "      <td>45.0</td>\n",
       "      <td>217.0</td>\n",
       "      <td>1</td>\n",
       "      <td>0</td>\n",
       "    </tr>\n",
       "  </tbody>\n",
       "</table>\n",
       "</div>"
      ],
      "text/plain": [
       "   age  height_cm  weight_kg  body fat_%  diastolic  systolic  gripForce  \\\n",
       "0   27      172.3      75.24        21.3       80.0     130.0       54.9   \n",
       "1   25      165.0      55.80        15.7       77.0     126.0       36.4   \n",
       "2   31      179.6      78.00        20.1       92.0     152.0       44.8   \n",
       "3   32      174.5      71.10        18.4       76.0     147.0       41.4   \n",
       "4   28      173.8      67.70        17.1       70.0     127.0       43.5   \n",
       "\n",
       "   sit-ups counts  broad jump_cm  gender  performance  \n",
       "0            60.0          217.0       1            1  \n",
       "1            53.0          229.0       1            0  \n",
       "2            49.0          181.0       1            1  \n",
       "3            53.0          219.0       1            0  \n",
       "4            45.0          217.0       1            0  "
      ]
     },
     "execution_count": 80,
     "metadata": {},
     "output_type": "execute_result"
    }
   ],
   "source": [
    "df.head()"
   ]
  },
  {
   "cell_type": "code",
   "execution_count": 81,
   "id": "6bbb2c3f",
   "metadata": {},
   "outputs": [
    {
     "data": {
      "text/html": [
       "<div>\n",
       "<style scoped>\n",
       "    .dataframe tbody tr th:only-of-type {\n",
       "        vertical-align: middle;\n",
       "    }\n",
       "\n",
       "    .dataframe tbody tr th {\n",
       "        vertical-align: top;\n",
       "    }\n",
       "\n",
       "    .dataframe thead th {\n",
       "        text-align: right;\n",
       "    }\n",
       "</style>\n",
       "<table border=\"1\" class=\"dataframe\">\n",
       "  <thead>\n",
       "    <tr style=\"text-align: right;\">\n",
       "      <th></th>\n",
       "      <th>age</th>\n",
       "      <th>height_cm</th>\n",
       "      <th>weight_kg</th>\n",
       "      <th>body fat_%</th>\n",
       "      <th>diastolic</th>\n",
       "      <th>systolic</th>\n",
       "      <th>gripForce</th>\n",
       "      <th>sit-ups counts</th>\n",
       "      <th>broad jump_cm</th>\n",
       "      <th>gender</th>\n",
       "    </tr>\n",
       "  </thead>\n",
       "  <tbody>\n",
       "    <tr>\n",
       "      <th>0</th>\n",
       "      <td>27</td>\n",
       "      <td>172.3</td>\n",
       "      <td>75.24</td>\n",
       "      <td>21.3</td>\n",
       "      <td>80.0</td>\n",
       "      <td>130.0</td>\n",
       "      <td>54.9</td>\n",
       "      <td>60.0</td>\n",
       "      <td>217.0</td>\n",
       "      <td>1</td>\n",
       "    </tr>\n",
       "    <tr>\n",
       "      <th>1</th>\n",
       "      <td>25</td>\n",
       "      <td>165.0</td>\n",
       "      <td>55.80</td>\n",
       "      <td>15.7</td>\n",
       "      <td>77.0</td>\n",
       "      <td>126.0</td>\n",
       "      <td>36.4</td>\n",
       "      <td>53.0</td>\n",
       "      <td>229.0</td>\n",
       "      <td>1</td>\n",
       "    </tr>\n",
       "    <tr>\n",
       "      <th>2</th>\n",
       "      <td>31</td>\n",
       "      <td>179.6</td>\n",
       "      <td>78.00</td>\n",
       "      <td>20.1</td>\n",
       "      <td>92.0</td>\n",
       "      <td>152.0</td>\n",
       "      <td>44.8</td>\n",
       "      <td>49.0</td>\n",
       "      <td>181.0</td>\n",
       "      <td>1</td>\n",
       "    </tr>\n",
       "    <tr>\n",
       "      <th>3</th>\n",
       "      <td>32</td>\n",
       "      <td>174.5</td>\n",
       "      <td>71.10</td>\n",
       "      <td>18.4</td>\n",
       "      <td>76.0</td>\n",
       "      <td>147.0</td>\n",
       "      <td>41.4</td>\n",
       "      <td>53.0</td>\n",
       "      <td>219.0</td>\n",
       "      <td>1</td>\n",
       "    </tr>\n",
       "    <tr>\n",
       "      <th>4</th>\n",
       "      <td>28</td>\n",
       "      <td>173.8</td>\n",
       "      <td>67.70</td>\n",
       "      <td>17.1</td>\n",
       "      <td>70.0</td>\n",
       "      <td>127.0</td>\n",
       "      <td>43.5</td>\n",
       "      <td>45.0</td>\n",
       "      <td>217.0</td>\n",
       "      <td>1</td>\n",
       "    </tr>\n",
       "  </tbody>\n",
       "</table>\n",
       "</div>"
      ],
      "text/plain": [
       "   age  height_cm  weight_kg  body fat_%  diastolic  systolic  gripForce  \\\n",
       "0   27      172.3      75.24        21.3       80.0     130.0       54.9   \n",
       "1   25      165.0      55.80        15.7       77.0     126.0       36.4   \n",
       "2   31      179.6      78.00        20.1       92.0     152.0       44.8   \n",
       "3   32      174.5      71.10        18.4       76.0     147.0       41.4   \n",
       "4   28      173.8      67.70        17.1       70.0     127.0       43.5   \n",
       "\n",
       "   sit-ups counts  broad jump_cm  gender  \n",
       "0            60.0          217.0       1  \n",
       "1            53.0          229.0       1  \n",
       "2            49.0          181.0       1  \n",
       "3            53.0          219.0       1  \n",
       "4            45.0          217.0       1  "
      ]
     },
     "execution_count": 81,
     "metadata": {},
     "output_type": "execute_result"
    }
   ],
   "source": [
    "features.head()"
   ]
  },
  {
   "cell_type": "markdown",
   "id": "04df2780",
   "metadata": {},
   "source": [
    "# Feature Selection"
   ]
  },
  {
   "cell_type": "code",
   "execution_count": 82,
   "id": "8fc2d5dc",
   "metadata": {},
   "outputs": [],
   "source": [
    "from sklearn.feature_selection import SelectKBest\n",
    "from sklearn.feature_selection import chi2\n",
    "\n",
    "best_features = SelectKBest(k='all')\n",
    "fit = best_features.fit(features, target) "
   ]
  },
  {
   "cell_type": "code",
   "execution_count": 83,
   "id": "a89c46ea",
   "metadata": {},
   "outputs": [
    {
     "data": {
      "text/html": [
       "<div>\n",
       "<style scoped>\n",
       "    .dataframe tbody tr th:only-of-type {\n",
       "        vertical-align: middle;\n",
       "    }\n",
       "\n",
       "    .dataframe tbody tr th {\n",
       "        vertical-align: top;\n",
       "    }\n",
       "\n",
       "    .dataframe thead th {\n",
       "        text-align: right;\n",
       "    }\n",
       "</style>\n",
       "<table border=\"1\" class=\"dataframe\">\n",
       "  <thead>\n",
       "    <tr style=\"text-align: right;\">\n",
       "      <th></th>\n",
       "      <th>Features</th>\n",
       "      <th>Scores</th>\n",
       "    </tr>\n",
       "  </thead>\n",
       "  <tbody>\n",
       "    <tr>\n",
       "      <th>0</th>\n",
       "      <td>age</td>\n",
       "      <td>26.362392</td>\n",
       "    </tr>\n",
       "    <tr>\n",
       "      <th>1</th>\n",
       "      <td>height_cm</td>\n",
       "      <td>21.087320</td>\n",
       "    </tr>\n",
       "    <tr>\n",
       "      <th>2</th>\n",
       "      <td>weight_kg</td>\n",
       "      <td>359.365158</td>\n",
       "    </tr>\n",
       "    <tr>\n",
       "      <th>3</th>\n",
       "      <td>body fat_%</td>\n",
       "      <td>1041.267304</td>\n",
       "    </tr>\n",
       "    <tr>\n",
       "      <th>4</th>\n",
       "      <td>diastolic</td>\n",
       "      <td>31.077825</td>\n",
       "    </tr>\n",
       "    <tr>\n",
       "      <th>5</th>\n",
       "      <td>systolic</td>\n",
       "      <td>4.516578</td>\n",
       "    </tr>\n",
       "    <tr>\n",
       "      <th>6</th>\n",
       "      <td>gripForce</td>\n",
       "      <td>203.204612</td>\n",
       "    </tr>\n",
       "    <tr>\n",
       "      <th>7</th>\n",
       "      <td>sit-ups counts</td>\n",
       "      <td>2305.841144</td>\n",
       "    </tr>\n",
       "    <tr>\n",
       "      <th>8</th>\n",
       "      <td>broad jump_cm</td>\n",
       "      <td>703.592320</td>\n",
       "    </tr>\n",
       "    <tr>\n",
       "      <th>9</th>\n",
       "      <td>gender</td>\n",
       "      <td>55.015775</td>\n",
       "    </tr>\n",
       "  </tbody>\n",
       "</table>\n",
       "</div>"
      ],
      "text/plain": [
       "         Features       Scores\n",
       "0             age    26.362392\n",
       "1       height_cm    21.087320\n",
       "2       weight_kg   359.365158\n",
       "3      body fat_%  1041.267304\n",
       "4       diastolic    31.077825\n",
       "5        systolic     4.516578\n",
       "6       gripForce   203.204612\n",
       "7  sit-ups counts  2305.841144\n",
       "8   broad jump_cm   703.592320\n",
       "9          gender    55.015775"
      ]
     },
     "execution_count": 83,
     "metadata": {},
     "output_type": "execute_result"
    }
   ],
   "source": [
    "dfscores = pd.DataFrame(fit.scores_)\n",
    "dfcoloumns = pd.DataFrame(features.columns)\n",
    "# Concat two dataframes for better visualization\n",
    "features_scores = pd.concat([dfcoloumns, dfscores], axis = 1)\n",
    "features_scores.columns = [\"Features\", \"Scores\"] # naming the dataframe Coloumns\n",
    "features_scores"
   ]
  },
  {
   "cell_type": "code",
   "execution_count": 84,
   "id": "43f74de9",
   "metadata": {},
   "outputs": [
    {
     "data": {
      "text/html": [
       "<div>\n",
       "<style scoped>\n",
       "    .dataframe tbody tr th:only-of-type {\n",
       "        vertical-align: middle;\n",
       "    }\n",
       "\n",
       "    .dataframe tbody tr th {\n",
       "        vertical-align: top;\n",
       "    }\n",
       "\n",
       "    .dataframe thead th {\n",
       "        text-align: right;\n",
       "    }\n",
       "</style>\n",
       "<table border=\"1\" class=\"dataframe\">\n",
       "  <thead>\n",
       "    <tr style=\"text-align: right;\">\n",
       "      <th></th>\n",
       "      <th>Features</th>\n",
       "      <th>Scores</th>\n",
       "    </tr>\n",
       "  </thead>\n",
       "  <tbody>\n",
       "    <tr>\n",
       "      <th>0</th>\n",
       "      <td>sit-ups counts</td>\n",
       "      <td>2305.841144</td>\n",
       "    </tr>\n",
       "    <tr>\n",
       "      <th>1</th>\n",
       "      <td>body fat_%</td>\n",
       "      <td>1041.267304</td>\n",
       "    </tr>\n",
       "    <tr>\n",
       "      <th>2</th>\n",
       "      <td>broad jump_cm</td>\n",
       "      <td>703.592320</td>\n",
       "    </tr>\n",
       "    <tr>\n",
       "      <th>3</th>\n",
       "      <td>weight_kg</td>\n",
       "      <td>359.365158</td>\n",
       "    </tr>\n",
       "    <tr>\n",
       "      <th>4</th>\n",
       "      <td>gripForce</td>\n",
       "      <td>203.204612</td>\n",
       "    </tr>\n",
       "    <tr>\n",
       "      <th>5</th>\n",
       "      <td>gender</td>\n",
       "      <td>55.015775</td>\n",
       "    </tr>\n",
       "    <tr>\n",
       "      <th>6</th>\n",
       "      <td>diastolic</td>\n",
       "      <td>31.077825</td>\n",
       "    </tr>\n",
       "    <tr>\n",
       "      <th>7</th>\n",
       "      <td>age</td>\n",
       "      <td>26.362392</td>\n",
       "    </tr>\n",
       "    <tr>\n",
       "      <th>8</th>\n",
       "      <td>height_cm</td>\n",
       "      <td>21.087320</td>\n",
       "    </tr>\n",
       "    <tr>\n",
       "      <th>9</th>\n",
       "      <td>systolic</td>\n",
       "      <td>4.516578</td>\n",
       "    </tr>\n",
       "  </tbody>\n",
       "</table>\n",
       "</div>"
      ],
      "text/plain": [
       "         Features       Scores\n",
       "0  sit-ups counts  2305.841144\n",
       "1      body fat_%  1041.267304\n",
       "2   broad jump_cm   703.592320\n",
       "3       weight_kg   359.365158\n",
       "4       gripForce   203.204612\n",
       "5          gender    55.015775\n",
       "6       diastolic    31.077825\n",
       "7             age    26.362392\n",
       "8       height_cm    21.087320\n",
       "9        systolic     4.516578"
      ]
     },
     "execution_count": 84,
     "metadata": {},
     "output_type": "execute_result"
    }
   ],
   "source": [
    "features_scores_high_low = features_scores.sort_values(by='Scores', ignore_index=True, ascending=False).copy()\n",
    "features_scores_high_low"
   ]
  },
  {
   "cell_type": "code",
   "execution_count": 85,
   "id": "68d2d3b5",
   "metadata": {},
   "outputs": [],
   "source": [
    "X_train_chi = fit.transform(X_train)\n",
    "X_test_chi = fit.transform(X_test)"
   ]
  },
  {
   "cell_type": "code",
   "execution_count": 86,
   "id": "21d2cac0",
   "metadata": {},
   "outputs": [
    {
     "data": {
      "text/plain": [
       "array([[ 27.  , 173.8 ,  87.  , ...,  50.  , 189.  ,   1.  ],\n",
       "       [ 22.  , 160.7 ,  45.8 , ...,  35.  , 143.  ,   0.  ],\n",
       "       [ 49.  , 149.9 ,  61.6 , ...,   8.  , 148.  ,   0.  ],\n",
       "       ...,\n",
       "       [ 27.  , 168.5 ,  49.44, ...,  47.  , 182.  ,   0.  ],\n",
       "       [ 21.  , 169.5 ,  83.7 , ...,  43.  , 166.  ,   0.  ],\n",
       "       [ 22.  , 172.1 ,  63.8 , ...,  60.  , 225.  ,   1.  ]])"
      ]
     },
     "execution_count": 86,
     "metadata": {},
     "output_type": "execute_result"
    }
   ],
   "source": [
    "X_train_chi"
   ]
  },
  {
   "cell_type": "code",
   "execution_count": 87,
   "id": "5b483ab1",
   "metadata": {},
   "outputs": [
    {
     "data": {
      "text/plain": [
       "array([[ 21.  , 167.4 ,  72.18, ...,  21.  ,  94.  ,   0.  ],\n",
       "       [ 42.  , 162.3 ,  67.3 , ...,  52.  , 219.  ,   1.  ],\n",
       "       [ 36.  , 178.5 ,  90.5 , ...,  45.  , 262.  ,   1.  ],\n",
       "       ...,\n",
       "       [ 58.  , 163.2 ,  54.1 , ...,  46.  , 187.  ,   1.  ],\n",
       "       [ 37.  , 172.6 ,  75.12, ...,  49.  , 226.  ,   1.  ],\n",
       "       [ 50.  , 159.3 ,  60.4 , ...,  21.  , 142.  ,   0.  ]])"
      ]
     },
     "execution_count": 87,
     "metadata": {},
     "output_type": "execute_result"
    }
   ],
   "source": [
    "X_test_chi"
   ]
  },
  {
   "cell_type": "code",
   "execution_count": 88,
   "id": "68a57247",
   "metadata": {},
   "outputs": [],
   "source": [
    "knn_model = KNeighborsClassifier(n_neighbors=9)\n",
    "knn_selected_feature_model = knn_model.fit(X_train_chi,y_train)"
   ]
  },
  {
   "cell_type": "code",
   "execution_count": 89,
   "id": "a497232a",
   "metadata": {},
   "outputs": [
    {
     "data": {
      "text/plain": [
       "0.7629712579320642"
      ]
     },
     "execution_count": 89,
     "metadata": {},
     "output_type": "execute_result"
    }
   ],
   "source": [
    "knn_selected_feature_model.score(X_test_chi, y_test)"
   ]
  },
  {
   "cell_type": "code",
   "execution_count": 90,
   "id": "e3363534",
   "metadata": {},
   "outputs": [],
   "source": [
    "best_features = SelectKBest(score_func=chi2, k = 9)\n",
    "fit = best_features.fit(features, target) "
   ]
  },
  {
   "cell_type": "code",
   "execution_count": 91,
   "id": "1cbd1e55",
   "metadata": {},
   "outputs": [
    {
     "data": {
      "text/html": [
       "<div>\n",
       "<style scoped>\n",
       "    .dataframe tbody tr th:only-of-type {\n",
       "        vertical-align: middle;\n",
       "    }\n",
       "\n",
       "    .dataframe tbody tr th {\n",
       "        vertical-align: top;\n",
       "    }\n",
       "\n",
       "    .dataframe thead th {\n",
       "        text-align: right;\n",
       "    }\n",
       "</style>\n",
       "<table border=\"1\" class=\"dataframe\">\n",
       "  <thead>\n",
       "    <tr style=\"text-align: right;\">\n",
       "      <th></th>\n",
       "      <th>Features</th>\n",
       "      <th>Scores</th>\n",
       "    </tr>\n",
       "  </thead>\n",
       "  <tbody>\n",
       "    <tr>\n",
       "      <th>0</th>\n",
       "      <td>age</td>\n",
       "      <td>132.838191</td>\n",
       "    </tr>\n",
       "    <tr>\n",
       "      <th>1</th>\n",
       "      <td>height_cm</td>\n",
       "      <td>8.869913</td>\n",
       "    </tr>\n",
       "    <tr>\n",
       "      <th>2</th>\n",
       "      <td>weight_kg</td>\n",
       "      <td>740.992931</td>\n",
       "    </tr>\n",
       "    <tr>\n",
       "      <th>3</th>\n",
       "      <td>body fat_%</td>\n",
       "      <td>2188.870607</td>\n",
       "    </tr>\n",
       "    <tr>\n",
       "      <th>4</th>\n",
       "      <td>diastolic</td>\n",
       "      <td>45.408846</td>\n",
       "    </tr>\n",
       "    <tr>\n",
       "      <th>5</th>\n",
       "      <td>systolic</td>\n",
       "      <td>7.506321</td>\n",
       "    </tr>\n",
       "    <tr>\n",
       "      <th>6</th>\n",
       "      <td>gripForce</td>\n",
       "      <td>611.356366</td>\n",
       "    </tr>\n",
       "    <tr>\n",
       "      <th>7</th>\n",
       "      <td>sit-ups counts</td>\n",
       "      <td>10082.057564</td>\n",
       "    </tr>\n",
       "    <tr>\n",
       "      <th>8</th>\n",
       "      <td>broad jump_cm</td>\n",
       "      <td>5588.729854</td>\n",
       "    </tr>\n",
       "    <tr>\n",
       "      <th>9</th>\n",
       "      <td>gender</td>\n",
       "      <td>20.155242</td>\n",
       "    </tr>\n",
       "  </tbody>\n",
       "</table>\n",
       "</div>"
      ],
      "text/plain": [
       "         Features        Scores\n",
       "0             age    132.838191\n",
       "1       height_cm      8.869913\n",
       "2       weight_kg    740.992931\n",
       "3      body fat_%   2188.870607\n",
       "4       diastolic     45.408846\n",
       "5        systolic      7.506321\n",
       "6       gripForce    611.356366\n",
       "7  sit-ups counts  10082.057564\n",
       "8   broad jump_cm   5588.729854\n",
       "9          gender     20.155242"
      ]
     },
     "execution_count": 91,
     "metadata": {},
     "output_type": "execute_result"
    }
   ],
   "source": [
    "dfscores = pd.DataFrame(fit.scores_)\n",
    "dfcoloumns = pd.DataFrame(features.columns)\n",
    "# Concat two dataframes for better visualization\n",
    "features_scores = pd.concat([dfcoloumns, dfscores], axis = 1)\n",
    "features_scores.columns = [\"Features\", \"Scores\"] # naming the dataframe Coloumns\n",
    "features_scores"
   ]
  },
  {
   "cell_type": "code",
   "execution_count": 92,
   "id": "2c4f8767",
   "metadata": {},
   "outputs": [
    {
     "data": {
      "text/html": [
       "<div>\n",
       "<style scoped>\n",
       "    .dataframe tbody tr th:only-of-type {\n",
       "        vertical-align: middle;\n",
       "    }\n",
       "\n",
       "    .dataframe tbody tr th {\n",
       "        vertical-align: top;\n",
       "    }\n",
       "\n",
       "    .dataframe thead th {\n",
       "        text-align: right;\n",
       "    }\n",
       "</style>\n",
       "<table border=\"1\" class=\"dataframe\">\n",
       "  <thead>\n",
       "    <tr style=\"text-align: right;\">\n",
       "      <th></th>\n",
       "      <th>Features</th>\n",
       "      <th>Scores</th>\n",
       "    </tr>\n",
       "  </thead>\n",
       "  <tbody>\n",
       "    <tr>\n",
       "      <th>0</th>\n",
       "      <td>sit-ups counts</td>\n",
       "      <td>10082.057564</td>\n",
       "    </tr>\n",
       "    <tr>\n",
       "      <th>1</th>\n",
       "      <td>broad jump_cm</td>\n",
       "      <td>5588.729854</td>\n",
       "    </tr>\n",
       "    <tr>\n",
       "      <th>2</th>\n",
       "      <td>body fat_%</td>\n",
       "      <td>2188.870607</td>\n",
       "    </tr>\n",
       "    <tr>\n",
       "      <th>3</th>\n",
       "      <td>weight_kg</td>\n",
       "      <td>740.992931</td>\n",
       "    </tr>\n",
       "    <tr>\n",
       "      <th>4</th>\n",
       "      <td>gripForce</td>\n",
       "      <td>611.356366</td>\n",
       "    </tr>\n",
       "    <tr>\n",
       "      <th>5</th>\n",
       "      <td>age</td>\n",
       "      <td>132.838191</td>\n",
       "    </tr>\n",
       "    <tr>\n",
       "      <th>6</th>\n",
       "      <td>diastolic</td>\n",
       "      <td>45.408846</td>\n",
       "    </tr>\n",
       "    <tr>\n",
       "      <th>7</th>\n",
       "      <td>gender</td>\n",
       "      <td>20.155242</td>\n",
       "    </tr>\n",
       "    <tr>\n",
       "      <th>8</th>\n",
       "      <td>height_cm</td>\n",
       "      <td>8.869913</td>\n",
       "    </tr>\n",
       "    <tr>\n",
       "      <th>9</th>\n",
       "      <td>systolic</td>\n",
       "      <td>7.506321</td>\n",
       "    </tr>\n",
       "  </tbody>\n",
       "</table>\n",
       "</div>"
      ],
      "text/plain": [
       "         Features        Scores\n",
       "0  sit-ups counts  10082.057564\n",
       "1   broad jump_cm   5588.729854\n",
       "2      body fat_%   2188.870607\n",
       "3       weight_kg    740.992931\n",
       "4       gripForce    611.356366\n",
       "5             age    132.838191\n",
       "6       diastolic     45.408846\n",
       "7          gender     20.155242\n",
       "8       height_cm      8.869913\n",
       "9        systolic      7.506321"
      ]
     },
     "execution_count": 92,
     "metadata": {},
     "output_type": "execute_result"
    }
   ],
   "source": [
    "features_scores_high_low = features_scores.sort_values(by='Scores', ignore_index=True, ascending=False).copy()\n",
    "features_scores_high_low"
   ]
  },
  {
   "cell_type": "code",
   "execution_count": 93,
   "id": "e22c0713",
   "metadata": {},
   "outputs": [],
   "source": [
    "X_train_chi = fit.transform(X_train)\n",
    "X_test_chi = fit.transform(X_test)"
   ]
  },
  {
   "cell_type": "code",
   "execution_count": 94,
   "id": "85928970",
   "metadata": {},
   "outputs": [
    {
     "data": {
      "text/plain": [
       "array([[ 27.  , 173.8 ,  87.  , ...,  50.  , 189.  ,   1.  ],\n",
       "       [ 22.  , 160.7 ,  45.8 , ...,  35.  , 143.  ,   0.  ],\n",
       "       [ 49.  , 149.9 ,  61.6 , ...,   8.  , 148.  ,   0.  ],\n",
       "       ...,\n",
       "       [ 27.  , 168.5 ,  49.44, ...,  47.  , 182.  ,   0.  ],\n",
       "       [ 21.  , 169.5 ,  83.7 , ...,  43.  , 166.  ,   0.  ],\n",
       "       [ 22.  , 172.1 ,  63.8 , ...,  60.  , 225.  ,   1.  ]])"
      ]
     },
     "execution_count": 94,
     "metadata": {},
     "output_type": "execute_result"
    }
   ],
   "source": [
    "X_train_chi"
   ]
  },
  {
   "cell_type": "code",
   "execution_count": 95,
   "id": "e64a5a1b",
   "metadata": {},
   "outputs": [
    {
     "data": {
      "text/plain": [
       "array([[ 21.  , 167.4 ,  72.18, ...,  21.  ,  94.  ,   0.  ],\n",
       "       [ 42.  , 162.3 ,  67.3 , ...,  52.  , 219.  ,   1.  ],\n",
       "       [ 36.  , 178.5 ,  90.5 , ...,  45.  , 262.  ,   1.  ],\n",
       "       ...,\n",
       "       [ 58.  , 163.2 ,  54.1 , ...,  46.  , 187.  ,   1.  ],\n",
       "       [ 37.  , 172.6 ,  75.12, ...,  49.  , 226.  ,   1.  ],\n",
       "       [ 50.  , 159.3 ,  60.4 , ...,  21.  , 142.  ,   0.  ]])"
      ]
     },
     "execution_count": 95,
     "metadata": {},
     "output_type": "execute_result"
    }
   ],
   "source": [
    "X_test_chi"
   ]
  },
  {
   "cell_type": "code",
   "execution_count": 96,
   "id": "2b857041",
   "metadata": {},
   "outputs": [],
   "source": [
    "knn_model = KNeighborsClassifier(n_neighbors=9)\n",
    "knn_selected_feature_model = knn_model.fit(X_train_chi,y_train)"
   ]
  },
  {
   "cell_type": "code",
   "execution_count": 97,
   "id": "19a3cc19",
   "metadata": {},
   "outputs": [
    {
     "data": {
      "text/plain": [
       "0.7741694662187384"
      ]
     },
     "execution_count": 97,
     "metadata": {},
     "output_type": "execute_result"
    }
   ],
   "source": [
    "knn_selected_feature_model.score(X_test_chi, y_test)"
   ]
  },
  {
   "cell_type": "markdown",
   "id": "9d256301",
   "metadata": {},
   "source": [
    "# Final Model"
   ]
  },
  {
   "cell_type": "code",
   "execution_count": 98,
   "id": "e75f148f",
   "metadata": {},
   "outputs": [
    {
     "data": {
      "text/html": [
       "<div>\n",
       "<style scoped>\n",
       "    .dataframe tbody tr th:only-of-type {\n",
       "        vertical-align: middle;\n",
       "    }\n",
       "\n",
       "    .dataframe tbody tr th {\n",
       "        vertical-align: top;\n",
       "    }\n",
       "\n",
       "    .dataframe thead th {\n",
       "        text-align: right;\n",
       "    }\n",
       "</style>\n",
       "<table border=\"1\" class=\"dataframe\">\n",
       "  <thead>\n",
       "    <tr style=\"text-align: right;\">\n",
       "      <th></th>\n",
       "      <th>age</th>\n",
       "      <th>height_cm</th>\n",
       "      <th>weight_kg</th>\n",
       "      <th>body fat_%</th>\n",
       "      <th>diastolic</th>\n",
       "      <th>systolic</th>\n",
       "      <th>gripForce</th>\n",
       "      <th>sit-ups counts</th>\n",
       "      <th>broad jump_cm</th>\n",
       "      <th>gender</th>\n",
       "      <th>performance</th>\n",
       "    </tr>\n",
       "  </thead>\n",
       "  <tbody>\n",
       "    <tr>\n",
       "      <th>0</th>\n",
       "      <td>27</td>\n",
       "      <td>172.3</td>\n",
       "      <td>75.24</td>\n",
       "      <td>21.3</td>\n",
       "      <td>80.0</td>\n",
       "      <td>130.0</td>\n",
       "      <td>54.9</td>\n",
       "      <td>60.0</td>\n",
       "      <td>217.0</td>\n",
       "      <td>1</td>\n",
       "      <td>1</td>\n",
       "    </tr>\n",
       "    <tr>\n",
       "      <th>1</th>\n",
       "      <td>25</td>\n",
       "      <td>165.0</td>\n",
       "      <td>55.80</td>\n",
       "      <td>15.7</td>\n",
       "      <td>77.0</td>\n",
       "      <td>126.0</td>\n",
       "      <td>36.4</td>\n",
       "      <td>53.0</td>\n",
       "      <td>229.0</td>\n",
       "      <td>1</td>\n",
       "      <td>0</td>\n",
       "    </tr>\n",
       "    <tr>\n",
       "      <th>2</th>\n",
       "      <td>31</td>\n",
       "      <td>179.6</td>\n",
       "      <td>78.00</td>\n",
       "      <td>20.1</td>\n",
       "      <td>92.0</td>\n",
       "      <td>152.0</td>\n",
       "      <td>44.8</td>\n",
       "      <td>49.0</td>\n",
       "      <td>181.0</td>\n",
       "      <td>1</td>\n",
       "      <td>1</td>\n",
       "    </tr>\n",
       "    <tr>\n",
       "      <th>3</th>\n",
       "      <td>32</td>\n",
       "      <td>174.5</td>\n",
       "      <td>71.10</td>\n",
       "      <td>18.4</td>\n",
       "      <td>76.0</td>\n",
       "      <td>147.0</td>\n",
       "      <td>41.4</td>\n",
       "      <td>53.0</td>\n",
       "      <td>219.0</td>\n",
       "      <td>1</td>\n",
       "      <td>0</td>\n",
       "    </tr>\n",
       "    <tr>\n",
       "      <th>4</th>\n",
       "      <td>28</td>\n",
       "      <td>173.8</td>\n",
       "      <td>67.70</td>\n",
       "      <td>17.1</td>\n",
       "      <td>70.0</td>\n",
       "      <td>127.0</td>\n",
       "      <td>43.5</td>\n",
       "      <td>45.0</td>\n",
       "      <td>217.0</td>\n",
       "      <td>1</td>\n",
       "      <td>0</td>\n",
       "    </tr>\n",
       "  </tbody>\n",
       "</table>\n",
       "</div>"
      ],
      "text/plain": [
       "   age  height_cm  weight_kg  body fat_%  diastolic  systolic  gripForce  \\\n",
       "0   27      172.3      75.24        21.3       80.0     130.0       54.9   \n",
       "1   25      165.0      55.80        15.7       77.0     126.0       36.4   \n",
       "2   31      179.6      78.00        20.1       92.0     152.0       44.8   \n",
       "3   32      174.5      71.10        18.4       76.0     147.0       41.4   \n",
       "4   28      173.8      67.70        17.1       70.0     127.0       43.5   \n",
       "\n",
       "   sit-ups counts  broad jump_cm  gender  performance  \n",
       "0            60.0          217.0       1            1  \n",
       "1            53.0          229.0       1            0  \n",
       "2            49.0          181.0       1            1  \n",
       "3            53.0          219.0       1            0  \n",
       "4            45.0          217.0       1            0  "
      ]
     },
     "execution_count": 98,
     "metadata": {},
     "output_type": "execute_result"
    }
   ],
   "source": [
    "df.head(5)"
   ]
  },
  {
   "cell_type": "code",
   "execution_count": 99,
   "id": "16d04a0a",
   "metadata": {},
   "outputs": [
    {
     "data": {
      "text/html": [
       "<div>\n",
       "<style scoped>\n",
       "    .dataframe tbody tr th:only-of-type {\n",
       "        vertical-align: middle;\n",
       "    }\n",
       "\n",
       "    .dataframe tbody tr th {\n",
       "        vertical-align: top;\n",
       "    }\n",
       "\n",
       "    .dataframe thead th {\n",
       "        text-align: right;\n",
       "    }\n",
       "</style>\n",
       "<table border=\"1\" class=\"dataframe\">\n",
       "  <thead>\n",
       "    <tr style=\"text-align: right;\">\n",
       "      <th></th>\n",
       "      <th>age</th>\n",
       "      <th>height_cm</th>\n",
       "      <th>weight_kg</th>\n",
       "      <th>body fat_%</th>\n",
       "      <th>diastolic</th>\n",
       "      <th>systolic</th>\n",
       "      <th>gripForce</th>\n",
       "      <th>sit-ups counts</th>\n",
       "      <th>broad jump_cm</th>\n",
       "      <th>gender</th>\n",
       "      <th>performance</th>\n",
       "    </tr>\n",
       "  </thead>\n",
       "  <tbody>\n",
       "    <tr>\n",
       "      <th>0</th>\n",
       "      <td>27</td>\n",
       "      <td>172.3</td>\n",
       "      <td>75.24</td>\n",
       "      <td>21.3</td>\n",
       "      <td>80.0</td>\n",
       "      <td>130.0</td>\n",
       "      <td>54.9</td>\n",
       "      <td>60.0</td>\n",
       "      <td>217.0</td>\n",
       "      <td>1</td>\n",
       "      <td>1</td>\n",
       "    </tr>\n",
       "    <tr>\n",
       "      <th>1</th>\n",
       "      <td>25</td>\n",
       "      <td>165.0</td>\n",
       "      <td>55.80</td>\n",
       "      <td>15.7</td>\n",
       "      <td>77.0</td>\n",
       "      <td>126.0</td>\n",
       "      <td>36.4</td>\n",
       "      <td>53.0</td>\n",
       "      <td>229.0</td>\n",
       "      <td>1</td>\n",
       "      <td>0</td>\n",
       "    </tr>\n",
       "    <tr>\n",
       "      <th>2</th>\n",
       "      <td>31</td>\n",
       "      <td>179.6</td>\n",
       "      <td>78.00</td>\n",
       "      <td>20.1</td>\n",
       "      <td>92.0</td>\n",
       "      <td>152.0</td>\n",
       "      <td>44.8</td>\n",
       "      <td>49.0</td>\n",
       "      <td>181.0</td>\n",
       "      <td>1</td>\n",
       "      <td>1</td>\n",
       "    </tr>\n",
       "    <tr>\n",
       "      <th>3</th>\n",
       "      <td>32</td>\n",
       "      <td>174.5</td>\n",
       "      <td>71.10</td>\n",
       "      <td>18.4</td>\n",
       "      <td>76.0</td>\n",
       "      <td>147.0</td>\n",
       "      <td>41.4</td>\n",
       "      <td>53.0</td>\n",
       "      <td>219.0</td>\n",
       "      <td>1</td>\n",
       "      <td>0</td>\n",
       "    </tr>\n",
       "    <tr>\n",
       "      <th>4</th>\n",
       "      <td>28</td>\n",
       "      <td>173.8</td>\n",
       "      <td>67.70</td>\n",
       "      <td>17.1</td>\n",
       "      <td>70.0</td>\n",
       "      <td>127.0</td>\n",
       "      <td>43.5</td>\n",
       "      <td>45.0</td>\n",
       "      <td>217.0</td>\n",
       "      <td>1</td>\n",
       "      <td>0</td>\n",
       "    </tr>\n",
       "    <tr>\n",
       "      <th>...</th>\n",
       "      <td>...</td>\n",
       "      <td>...</td>\n",
       "      <td>...</td>\n",
       "      <td>...</td>\n",
       "      <td>...</td>\n",
       "      <td>...</td>\n",
       "      <td>...</td>\n",
       "      <td>...</td>\n",
       "      <td>...</td>\n",
       "      <td>...</td>\n",
       "      <td>...</td>\n",
       "    </tr>\n",
       "    <tr>\n",
       "      <th>13388</th>\n",
       "      <td>25</td>\n",
       "      <td>172.1</td>\n",
       "      <td>71.80</td>\n",
       "      <td>16.2</td>\n",
       "      <td>74.0</td>\n",
       "      <td>141.0</td>\n",
       "      <td>35.8</td>\n",
       "      <td>47.0</td>\n",
       "      <td>198.0</td>\n",
       "      <td>1</td>\n",
       "      <td>1</td>\n",
       "    </tr>\n",
       "    <tr>\n",
       "      <th>13389</th>\n",
       "      <td>21</td>\n",
       "      <td>179.7</td>\n",
       "      <td>63.90</td>\n",
       "      <td>12.1</td>\n",
       "      <td>74.0</td>\n",
       "      <td>128.0</td>\n",
       "      <td>33.0</td>\n",
       "      <td>48.0</td>\n",
       "      <td>167.0</td>\n",
       "      <td>1</td>\n",
       "      <td>1</td>\n",
       "    </tr>\n",
       "    <tr>\n",
       "      <th>13390</th>\n",
       "      <td>39</td>\n",
       "      <td>177.2</td>\n",
       "      <td>80.50</td>\n",
       "      <td>20.1</td>\n",
       "      <td>78.0</td>\n",
       "      <td>132.0</td>\n",
       "      <td>63.5</td>\n",
       "      <td>45.0</td>\n",
       "      <td>229.0</td>\n",
       "      <td>1</td>\n",
       "      <td>0</td>\n",
       "    </tr>\n",
       "    <tr>\n",
       "      <th>13391</th>\n",
       "      <td>64</td>\n",
       "      <td>146.1</td>\n",
       "      <td>57.70</td>\n",
       "      <td>40.4</td>\n",
       "      <td>68.0</td>\n",
       "      <td>121.0</td>\n",
       "      <td>19.3</td>\n",
       "      <td>0.0</td>\n",
       "      <td>75.0</td>\n",
       "      <td>0</td>\n",
       "      <td>1</td>\n",
       "    </tr>\n",
       "    <tr>\n",
       "      <th>13392</th>\n",
       "      <td>34</td>\n",
       "      <td>164.0</td>\n",
       "      <td>66.10</td>\n",
       "      <td>19.5</td>\n",
       "      <td>82.0</td>\n",
       "      <td>150.0</td>\n",
       "      <td>35.9</td>\n",
       "      <td>51.0</td>\n",
       "      <td>180.0</td>\n",
       "      <td>1</td>\n",
       "      <td>1</td>\n",
       "    </tr>\n",
       "  </tbody>\n",
       "</table>\n",
       "<p>13393 rows × 11 columns</p>\n",
       "</div>"
      ],
      "text/plain": [
       "       age  height_cm  weight_kg  body fat_%  diastolic  systolic  gripForce  \\\n",
       "0       27      172.3      75.24        21.3       80.0     130.0       54.9   \n",
       "1       25      165.0      55.80        15.7       77.0     126.0       36.4   \n",
       "2       31      179.6      78.00        20.1       92.0     152.0       44.8   \n",
       "3       32      174.5      71.10        18.4       76.0     147.0       41.4   \n",
       "4       28      173.8      67.70        17.1       70.0     127.0       43.5   \n",
       "...    ...        ...        ...         ...        ...       ...        ...   \n",
       "13388   25      172.1      71.80        16.2       74.0     141.0       35.8   \n",
       "13389   21      179.7      63.90        12.1       74.0     128.0       33.0   \n",
       "13390   39      177.2      80.50        20.1       78.0     132.0       63.5   \n",
       "13391   64      146.1      57.70        40.4       68.0     121.0       19.3   \n",
       "13392   34      164.0      66.10        19.5       82.0     150.0       35.9   \n",
       "\n",
       "       sit-ups counts  broad jump_cm  gender  performance  \n",
       "0                60.0          217.0       1            1  \n",
       "1                53.0          229.0       1            0  \n",
       "2                49.0          181.0       1            1  \n",
       "3                53.0          219.0       1            0  \n",
       "4                45.0          217.0       1            0  \n",
       "...               ...            ...     ...          ...  \n",
       "13388            47.0          198.0       1            1  \n",
       "13389            48.0          167.0       1            1  \n",
       "13390            45.0          229.0       1            0  \n",
       "13391             0.0           75.0       0            1  \n",
       "13392            51.0          180.0       1            1  \n",
       "\n",
       "[13393 rows x 11 columns]"
      ]
     },
     "execution_count": 99,
     "metadata": {},
     "output_type": "execute_result"
    }
   ],
   "source": [
    "df5 = df\n",
    "df5"
   ]
  },
  {
   "cell_type": "code",
   "execution_count": 100,
   "id": "23ec7c03",
   "metadata": {},
   "outputs": [
    {
     "data": {
      "text/html": [
       "<div>\n",
       "<style scoped>\n",
       "    .dataframe tbody tr th:only-of-type {\n",
       "        vertical-align: middle;\n",
       "    }\n",
       "\n",
       "    .dataframe tbody tr th {\n",
       "        vertical-align: top;\n",
       "    }\n",
       "\n",
       "    .dataframe thead th {\n",
       "        text-align: right;\n",
       "    }\n",
       "</style>\n",
       "<table border=\"1\" class=\"dataframe\">\n",
       "  <thead>\n",
       "    <tr style=\"text-align: right;\">\n",
       "      <th></th>\n",
       "      <th>age</th>\n",
       "      <th>weight_kg</th>\n",
       "      <th>body fat_%</th>\n",
       "      <th>diastolic</th>\n",
       "      <th>systolic</th>\n",
       "      <th>gripForce</th>\n",
       "      <th>sit-ups counts</th>\n",
       "      <th>broad jump_cm</th>\n",
       "      <th>gender</th>\n",
       "      <th>performance</th>\n",
       "    </tr>\n",
       "  </thead>\n",
       "  <tbody>\n",
       "    <tr>\n",
       "      <th>0</th>\n",
       "      <td>27</td>\n",
       "      <td>75.24</td>\n",
       "      <td>21.3</td>\n",
       "      <td>80.0</td>\n",
       "      <td>130.0</td>\n",
       "      <td>54.9</td>\n",
       "      <td>60.0</td>\n",
       "      <td>217.0</td>\n",
       "      <td>1</td>\n",
       "      <td>1</td>\n",
       "    </tr>\n",
       "    <tr>\n",
       "      <th>1</th>\n",
       "      <td>25</td>\n",
       "      <td>55.80</td>\n",
       "      <td>15.7</td>\n",
       "      <td>77.0</td>\n",
       "      <td>126.0</td>\n",
       "      <td>36.4</td>\n",
       "      <td>53.0</td>\n",
       "      <td>229.0</td>\n",
       "      <td>1</td>\n",
       "      <td>0</td>\n",
       "    </tr>\n",
       "    <tr>\n",
       "      <th>2</th>\n",
       "      <td>31</td>\n",
       "      <td>78.00</td>\n",
       "      <td>20.1</td>\n",
       "      <td>92.0</td>\n",
       "      <td>152.0</td>\n",
       "      <td>44.8</td>\n",
       "      <td>49.0</td>\n",
       "      <td>181.0</td>\n",
       "      <td>1</td>\n",
       "      <td>1</td>\n",
       "    </tr>\n",
       "    <tr>\n",
       "      <th>3</th>\n",
       "      <td>32</td>\n",
       "      <td>71.10</td>\n",
       "      <td>18.4</td>\n",
       "      <td>76.0</td>\n",
       "      <td>147.0</td>\n",
       "      <td>41.4</td>\n",
       "      <td>53.0</td>\n",
       "      <td>219.0</td>\n",
       "      <td>1</td>\n",
       "      <td>0</td>\n",
       "    </tr>\n",
       "    <tr>\n",
       "      <th>4</th>\n",
       "      <td>28</td>\n",
       "      <td>67.70</td>\n",
       "      <td>17.1</td>\n",
       "      <td>70.0</td>\n",
       "      <td>127.0</td>\n",
       "      <td>43.5</td>\n",
       "      <td>45.0</td>\n",
       "      <td>217.0</td>\n",
       "      <td>1</td>\n",
       "      <td>0</td>\n",
       "    </tr>\n",
       "  </tbody>\n",
       "</table>\n",
       "</div>"
      ],
      "text/plain": [
       "   age  weight_kg  body fat_%  diastolic  systolic  gripForce  sit-ups counts  \\\n",
       "0   27      75.24        21.3       80.0     130.0       54.9            60.0   \n",
       "1   25      55.80        15.7       77.0     126.0       36.4            53.0   \n",
       "2   31      78.00        20.1       92.0     152.0       44.8            49.0   \n",
       "3   32      71.10        18.4       76.0     147.0       41.4            53.0   \n",
       "4   28      67.70        17.1       70.0     127.0       43.5            45.0   \n",
       "\n",
       "   broad jump_cm  gender  performance  \n",
       "0          217.0       1            1  \n",
       "1          229.0       1            0  \n",
       "2          181.0       1            1  \n",
       "3          219.0       1            0  \n",
       "4          217.0       1            0  "
      ]
     },
     "execution_count": 100,
     "metadata": {},
     "output_type": "execute_result"
    }
   ],
   "source": [
    "df5 = df.drop(\"systolic\", axis ='columns')\n",
    "df5 = df.drop(\"height_cm\", axis ='columns')\n",
    "df5.head(5)"
   ]
  },
  {
   "cell_type": "code",
   "execution_count": 101,
   "id": "6989c140",
   "metadata": {},
   "outputs": [],
   "source": [
    "features = df5.drop('performance', axis=1)\n",
    "target = df5['performance']"
   ]
  },
  {
   "cell_type": "code",
   "execution_count": 102,
   "id": "8f642c5e",
   "metadata": {},
   "outputs": [
    {
     "data": {
      "text/html": [
       "<div>\n",
       "<style scoped>\n",
       "    .dataframe tbody tr th:only-of-type {\n",
       "        vertical-align: middle;\n",
       "    }\n",
       "\n",
       "    .dataframe tbody tr th {\n",
       "        vertical-align: top;\n",
       "    }\n",
       "\n",
       "    .dataframe thead th {\n",
       "        text-align: right;\n",
       "    }\n",
       "</style>\n",
       "<table border=\"1\" class=\"dataframe\">\n",
       "  <thead>\n",
       "    <tr style=\"text-align: right;\">\n",
       "      <th></th>\n",
       "      <th>age</th>\n",
       "      <th>weight_kg</th>\n",
       "      <th>body fat_%</th>\n",
       "      <th>diastolic</th>\n",
       "      <th>systolic</th>\n",
       "      <th>gripForce</th>\n",
       "      <th>sit-ups counts</th>\n",
       "      <th>broad jump_cm</th>\n",
       "      <th>gender</th>\n",
       "    </tr>\n",
       "  </thead>\n",
       "  <tbody>\n",
       "    <tr>\n",
       "      <th>0</th>\n",
       "      <td>27</td>\n",
       "      <td>75.24</td>\n",
       "      <td>21.3</td>\n",
       "      <td>80.0</td>\n",
       "      <td>130.0</td>\n",
       "      <td>54.9</td>\n",
       "      <td>60.0</td>\n",
       "      <td>217.0</td>\n",
       "      <td>1</td>\n",
       "    </tr>\n",
       "    <tr>\n",
       "      <th>1</th>\n",
       "      <td>25</td>\n",
       "      <td>55.80</td>\n",
       "      <td>15.7</td>\n",
       "      <td>77.0</td>\n",
       "      <td>126.0</td>\n",
       "      <td>36.4</td>\n",
       "      <td>53.0</td>\n",
       "      <td>229.0</td>\n",
       "      <td>1</td>\n",
       "    </tr>\n",
       "    <tr>\n",
       "      <th>2</th>\n",
       "      <td>31</td>\n",
       "      <td>78.00</td>\n",
       "      <td>20.1</td>\n",
       "      <td>92.0</td>\n",
       "      <td>152.0</td>\n",
       "      <td>44.8</td>\n",
       "      <td>49.0</td>\n",
       "      <td>181.0</td>\n",
       "      <td>1</td>\n",
       "    </tr>\n",
       "    <tr>\n",
       "      <th>3</th>\n",
       "      <td>32</td>\n",
       "      <td>71.10</td>\n",
       "      <td>18.4</td>\n",
       "      <td>76.0</td>\n",
       "      <td>147.0</td>\n",
       "      <td>41.4</td>\n",
       "      <td>53.0</td>\n",
       "      <td>219.0</td>\n",
       "      <td>1</td>\n",
       "    </tr>\n",
       "    <tr>\n",
       "      <th>4</th>\n",
       "      <td>28</td>\n",
       "      <td>67.70</td>\n",
       "      <td>17.1</td>\n",
       "      <td>70.0</td>\n",
       "      <td>127.0</td>\n",
       "      <td>43.5</td>\n",
       "      <td>45.0</td>\n",
       "      <td>217.0</td>\n",
       "      <td>1</td>\n",
       "    </tr>\n",
       "    <tr>\n",
       "      <th>...</th>\n",
       "      <td>...</td>\n",
       "      <td>...</td>\n",
       "      <td>...</td>\n",
       "      <td>...</td>\n",
       "      <td>...</td>\n",
       "      <td>...</td>\n",
       "      <td>...</td>\n",
       "      <td>...</td>\n",
       "      <td>...</td>\n",
       "    </tr>\n",
       "    <tr>\n",
       "      <th>13388</th>\n",
       "      <td>25</td>\n",
       "      <td>71.80</td>\n",
       "      <td>16.2</td>\n",
       "      <td>74.0</td>\n",
       "      <td>141.0</td>\n",
       "      <td>35.8</td>\n",
       "      <td>47.0</td>\n",
       "      <td>198.0</td>\n",
       "      <td>1</td>\n",
       "    </tr>\n",
       "    <tr>\n",
       "      <th>13389</th>\n",
       "      <td>21</td>\n",
       "      <td>63.90</td>\n",
       "      <td>12.1</td>\n",
       "      <td>74.0</td>\n",
       "      <td>128.0</td>\n",
       "      <td>33.0</td>\n",
       "      <td>48.0</td>\n",
       "      <td>167.0</td>\n",
       "      <td>1</td>\n",
       "    </tr>\n",
       "    <tr>\n",
       "      <th>13390</th>\n",
       "      <td>39</td>\n",
       "      <td>80.50</td>\n",
       "      <td>20.1</td>\n",
       "      <td>78.0</td>\n",
       "      <td>132.0</td>\n",
       "      <td>63.5</td>\n",
       "      <td>45.0</td>\n",
       "      <td>229.0</td>\n",
       "      <td>1</td>\n",
       "    </tr>\n",
       "    <tr>\n",
       "      <th>13391</th>\n",
       "      <td>64</td>\n",
       "      <td>57.70</td>\n",
       "      <td>40.4</td>\n",
       "      <td>68.0</td>\n",
       "      <td>121.0</td>\n",
       "      <td>19.3</td>\n",
       "      <td>0.0</td>\n",
       "      <td>75.0</td>\n",
       "      <td>0</td>\n",
       "    </tr>\n",
       "    <tr>\n",
       "      <th>13392</th>\n",
       "      <td>34</td>\n",
       "      <td>66.10</td>\n",
       "      <td>19.5</td>\n",
       "      <td>82.0</td>\n",
       "      <td>150.0</td>\n",
       "      <td>35.9</td>\n",
       "      <td>51.0</td>\n",
       "      <td>180.0</td>\n",
       "      <td>1</td>\n",
       "    </tr>\n",
       "  </tbody>\n",
       "</table>\n",
       "<p>13393 rows × 9 columns</p>\n",
       "</div>"
      ],
      "text/plain": [
       "       age  weight_kg  body fat_%  diastolic  systolic  gripForce  \\\n",
       "0       27      75.24        21.3       80.0     130.0       54.9   \n",
       "1       25      55.80        15.7       77.0     126.0       36.4   \n",
       "2       31      78.00        20.1       92.0     152.0       44.8   \n",
       "3       32      71.10        18.4       76.0     147.0       41.4   \n",
       "4       28      67.70        17.1       70.0     127.0       43.5   \n",
       "...    ...        ...         ...        ...       ...        ...   \n",
       "13388   25      71.80        16.2       74.0     141.0       35.8   \n",
       "13389   21      63.90        12.1       74.0     128.0       33.0   \n",
       "13390   39      80.50        20.1       78.0     132.0       63.5   \n",
       "13391   64      57.70        40.4       68.0     121.0       19.3   \n",
       "13392   34      66.10        19.5       82.0     150.0       35.9   \n",
       "\n",
       "       sit-ups counts  broad jump_cm  gender  \n",
       "0                60.0          217.0       1  \n",
       "1                53.0          229.0       1  \n",
       "2                49.0          181.0       1  \n",
       "3                53.0          219.0       1  \n",
       "4                45.0          217.0       1  \n",
       "...               ...            ...     ...  \n",
       "13388            47.0          198.0       1  \n",
       "13389            48.0          167.0       1  \n",
       "13390            45.0          229.0       1  \n",
       "13391             0.0           75.0       0  \n",
       "13392            51.0          180.0       1  \n",
       "\n",
       "[13393 rows x 9 columns]"
      ]
     },
     "execution_count": 102,
     "metadata": {},
     "output_type": "execute_result"
    }
   ],
   "source": [
    "features"
   ]
  },
  {
   "cell_type": "code",
   "execution_count": 103,
   "id": "3f3b7449",
   "metadata": {},
   "outputs": [
    {
     "data": {
      "text/plain": [
       "0        1\n",
       "1        0\n",
       "2        1\n",
       "3        0\n",
       "4        0\n",
       "        ..\n",
       "13388    1\n",
       "13389    1\n",
       "13390    0\n",
       "13391    1\n",
       "13392    1\n",
       "Name: performance, Length: 13393, dtype: int32"
      ]
     },
     "execution_count": 103,
     "metadata": {},
     "output_type": "execute_result"
    }
   ],
   "source": [
    "target"
   ]
  },
  {
   "cell_type": "code",
   "execution_count": 104,
   "id": "a6769512",
   "metadata": {},
   "outputs": [],
   "source": [
    "# train test split\n",
    "X_train_final, X_test_final, y_train_final, y_test_final = train_test_split(features, target, test_size=0.2, random_state=42)"
   ]
  },
  {
   "cell_type": "code",
   "execution_count": 105,
   "id": "3c6e2778",
   "metadata": {},
   "outputs": [
    {
     "data": {
      "text/plain": [
       "LogisticRegression(C=100)"
      ]
     },
     "execution_count": 105,
     "metadata": {},
     "output_type": "execute_result"
    }
   ],
   "source": [
    "# logistic regression final model\n",
    "lr_final  = LogisticRegression(C=100)\n",
    "lr_final.fit(X_train_final, y_train_final)"
   ]
  },
  {
   "cell_type": "code",
   "execution_count": 106,
   "id": "ea229f1b",
   "metadata": {},
   "outputs": [
    {
     "data": {
      "text/plain": [
       "array([1, 0, 0, ..., 0, 0, 1])"
      ]
     },
     "execution_count": 106,
     "metadata": {},
     "output_type": "execute_result"
    }
   ],
   "source": [
    "y_pred_lr_final = lr_final.predict(X_test_final)\n",
    "y_pred_lr_final"
   ]
  },
  {
   "cell_type": "code",
   "execution_count": 107,
   "id": "41a5897e",
   "metadata": {
    "scrolled": false
   },
   "outputs": [
    {
     "name": "stdout",
     "output_type": "stream",
     "text": [
      "              precision    recall  f1-score   support\n",
      "\n",
      "           0       0.76      0.80      0.78      1347\n",
      "           1       0.79      0.74      0.76      1332\n",
      "\n",
      "    accuracy                           0.77      2679\n",
      "   macro avg       0.77      0.77      0.77      2679\n",
      "weighted avg       0.77      0.77      0.77      2679\n",
      "\n"
     ]
    },
    {
     "data": {
      "image/png": "[encoded data removed]",
      "text/plain": [
       "<Figure size 432x288 with 2 Axes>"
      ]
     },
     "metadata": {
      "needs_background": "light"
     },
     "output_type": "display_data"
    }
   ],
   "source": [
    "matrix = confusion_matrix(y_test_final, y_pred_lr_final)\n",
    "sns.heatmap(matrix, annot=True, fmt=\"d\")\n",
    "plt.title('Confusion Matrix')\n",
    "plt.xlabel('Predicted')\n",
    "plt.ylabel('Actual')\n",
    "print(classification_report(y_test_final, y_pred_lr_final))"
   ]
  },
  {
   "cell_type": "markdown",
   "id": "8320c95c",
   "metadata": {},
   "source": [
    "from above confusion matrix my model have predicted following values :\n",
    "\n",
    "True Positive = 1078\n",
    "\n",
    "False Negative 269\n",
    "\n",
    "False Postive = 342\n",
    "\n",
    "True Negative = 990"
   ]
  },
  {
   "cell_type": "code",
   "execution_count": 108,
   "id": "cd9521a2",
   "metadata": {},
   "outputs": [
    {
     "data": {
      "text/plain": [
       "0.7719298245614035"
      ]
     },
     "execution_count": 108,
     "metadata": {},
     "output_type": "execute_result"
    }
   ],
   "source": [
    "lr_final_scr=lr_final.score(X_test_final,y_test_final)\n",
    "lr_final_scr"
   ]
  },
  {
   "cell_type": "code",
   "execution_count": 109,
   "id": "9ca12603",
   "metadata": {
    "scrolled": false
   },
   "outputs": [
    {
     "name": "stdout",
     "output_type": "stream",
     "text": [
      "              precision    recall  f1-score   support\n",
      "\n",
      "           0       0.72      0.86      0.78      1347\n",
      "           1       0.82      0.66      0.73      1332\n",
      "\n",
      "    accuracy                           0.76      2679\n",
      "   macro avg       0.77      0.76      0.76      2679\n",
      "weighted avg       0.77      0.76      0.76      2679\n",
      "\n"
     ]
    },
    {
     "data": {
      "image/png": "[encoded data removed]",
      "text/plain": [
       "<Figure size 432x288 with 2 Axes>"
      ]
     },
     "metadata": {
      "needs_background": "light"
     },
     "output_type": "display_data"
    }
   ],
   "source": [
    "# knn algorithm final\n",
    "knn_final = KNeighborsClassifier(n_neighbors = 12)\n",
    "knn_final.fit(X_train_final, y_train_final)\n",
    "y_pred_knn_final = knn_final.predict(X_test_final)\n",
    "\n",
    "matrix = confusion_matrix(y_test_final, y_pred_knn_final)\n",
    "sns.heatmap(matrix, annot=True, fmt=\"d\")\n",
    "plt.title('Confusion Matrix')\n",
    "plt.xlabel('Predicted')\n",
    "plt.ylabel('Actual')\n",
    "\n",
    "print(classification_report(y_test_final,y_pred_knn_final))"
   ]
  },
  {
   "cell_type": "markdown",
   "id": "671d33cb",
   "metadata": {},
   "source": [
    "from above confusion matrix my model have predicted following values :\n",
    "\n",
    "True Positive = 1155\n",
    "\n",
    "False Negative 192\n",
    "\n",
    "False Postive = 451\n",
    "\n",
    "True Negative = 881"
   ]
  },
  {
   "cell_type": "code",
   "execution_count": 110,
   "id": "ab3e84f0",
   "metadata": {},
   "outputs": [
    {
     "data": {
      "text/plain": [
       "0.7599850690556178"
      ]
     },
     "execution_count": 110,
     "metadata": {},
     "output_type": "execute_result"
    }
   ],
   "source": [
    "knn_final_scr=knn_final.score(X_test_final,y_test_final)\n",
    "knn_final_scr"
   ]
  },
  {
   "cell_type": "markdown",
   "id": "196ff532",
   "metadata": {},
   "source": [
    "# Conclusion"
   ]
  },
  {
   "cell_type": "code",
   "execution_count": 111,
   "id": "a377c0e9",
   "metadata": {},
   "outputs": [
    {
     "data": {
      "text/html": [
       "<div>\n",
       "<style scoped>\n",
       "    .dataframe tbody tr th:only-of-type {\n",
       "        vertical-align: middle;\n",
       "    }\n",
       "\n",
       "    .dataframe tbody tr th {\n",
       "        vertical-align: top;\n",
       "    }\n",
       "\n",
       "    .dataframe thead th {\n",
       "        text-align: right;\n",
       "    }\n",
       "</style>\n",
       "<table border=\"1\" class=\"dataframe\">\n",
       "  <thead>\n",
       "    <tr style=\"text-align: right;\">\n",
       "      <th></th>\n",
       "      <th>Normal Model Accuracy</th>\n",
       "      <th>Selected feature and turned parameter model accuracy</th>\n",
       "      <th>Final Model</th>\n",
       "    </tr>\n",
       "  </thead>\n",
       "  <tbody>\n",
       "    <tr>\n",
       "      <th>Logistic Regression</th>\n",
       "      <td>0.789100</td>\n",
       "      <td>0.783928</td>\n",
       "      <td>0.771930</td>\n",
       "    </tr>\n",
       "    <tr>\n",
       "      <th>K Nearest Neighbors</th>\n",
       "      <td>0.750653</td>\n",
       "      <td>0.766288</td>\n",
       "      <td>0.759985</td>\n",
       "    </tr>\n",
       "  </tbody>\n",
       "</table>\n",
       "</div>"
      ],
      "text/plain": [
       "                     Normal Model Accuracy  \\\n",
       "Logistic Regression               0.789100   \n",
       "K Nearest Neighbors               0.750653   \n",
       "\n",
       "                     Selected feature and turned parameter model accuracy  \\\n",
       "Logistic Regression                                           0.783928      \n",
       "K Nearest Neighbors                                           0.766288      \n",
       "\n",
       "                     Final Model  \n",
       "Logistic Regression     0.771930  \n",
       "K Nearest Neighbors     0.759985  "
      ]
     },
     "execution_count": 111,
     "metadata": {},
     "output_type": "execute_result"
    }
   ],
   "source": [
    "# Building accurcy table of models\n",
    "indexes = ['Logistic Regression', 'K Nearest Neighbors']\n",
    "accuracy_score = {\n",
    "    'Normal Model Accuracy': [lr_scr, knn_scr],\n",
    "    'Selected feature and turned parameter model accuracy': [lr_hyper_scr, knn_hyper_scr],\n",
    "    'Final Model': [lr_final_scr, knn_final_scr]\n",
    "}\n",
    "accuracy_table = pd.DataFrame(accuracy_score, index = indexes)\n",
    "accuracy_table"
   ]
  },
  {
   "cell_type": "markdown",
   "id": "dd171a0b",
   "metadata": {},
   "source": [
    "In conclusion, the best accuracy is seen while model is trained using logistic regression than knn with a small margin. CV and Hyper Parameter tuning should increase the accuracy which is right incase of KNN algorithm but in logistic regression accuracy is slightly decreased. But the final model accuracy of both is increased when best value of hypermeter is taken\n",
    "\n",
    "The accuracy table shows that logistic regression provides the greatest accuracy in this dataset. After the characteristics are chosen, the logistic regression yields an accuracy of 78.91 percent, which is higher than the primary model."
   ]
  }
 ],
 "metadata": {
  "kernelspec": {
   "display_name": "Python 3 (ipykernel)",
   "language": "python",
   "name": "python3"
  },
  "language_info": {
   "codemirror_mode": {
    "name": "ipython",
    "version": 3
   },
   "file_extension": ".py",
   "mimetype": "text/x-python",
   "name": "python",
   "nbconvert_exporter": "python",
   "pygments_lexer": "ipython3",
   "version": "3.9.7"
  }
 },
 "nbformat": 4,
 "nbformat_minor": 5
}
