{
 "cells": [
  {
   "cell_type": "markdown",
   "id": "37f19e64",
   "metadata": {},
   "source": [
    "## Task 1 - Entropy and Information Gain"
   ]
  },
  {
   "cell_type": "code",
   "execution_count": 1,
   "id": "40a10076",
   "metadata": {},
   "outputs": [],
   "source": [
    "#import necessary libraries\n",
    "import numpy as np\n",
    "import pandas as pd\n",
    "import matplotlib.pyplot as plt\n",
    "%matplotlib inline"
   ]
  },
  {
   "cell_type": "code",
   "execution_count": 2,
   "id": "42fd48b2",
   "metadata": {},
   "outputs": [],
   "source": [
    "#ignore warnings\n",
    "import warnings\n",
    "warnings.filterwarnings('ignore')"
   ]
  },
  {
   "cell_type": "code",
   "execution_count": 3,
   "id": "f45f30c3",
   "metadata": {},
   "outputs": [],
   "source": [
    "# To read data using pandas library\n",
    "df = pd.read_csv('samplecar.csv')   "
   ]
  },
  {
   "cell_type": "code",
   "execution_count": 4,
   "id": "b7472658",
   "metadata": {},
   "outputs": [
    {
     "data": {
      "text/html": [
       "<div>\n",
       "<style scoped>\n",
       "    .dataframe tbody tr th:only-of-type {\n",
       "        vertical-align: middle;\n",
       "    }\n",
       "\n",
       "    .dataframe tbody tr th {\n",
       "        vertical-align: top;\n",
       "    }\n",
       "\n",
       "    .dataframe thead th {\n",
       "        text-align: right;\n",
       "    }\n",
       "</style>\n",
       "<table border=\"1\" class=\"dataframe\">\n",
       "  <thead>\n",
       "    <tr style=\"text-align: right;\">\n",
       "      <th></th>\n",
       "      <th>Type</th>\n",
       "      <th>Price</th>\n",
       "      <th>Buy</th>\n",
       "    </tr>\n",
       "  </thead>\n",
       "  <tbody>\n",
       "    <tr>\n",
       "      <th>0</th>\n",
       "      <td>SUV</td>\n",
       "      <td>H</td>\n",
       "      <td>No</td>\n",
       "    </tr>\n",
       "    <tr>\n",
       "      <th>1</th>\n",
       "      <td>HB</td>\n",
       "      <td>H</td>\n",
       "      <td>No</td>\n",
       "    </tr>\n",
       "    <tr>\n",
       "      <th>2</th>\n",
       "      <td>HB</td>\n",
       "      <td>H</td>\n",
       "      <td>Yes</td>\n",
       "    </tr>\n",
       "    <tr>\n",
       "      <th>3</th>\n",
       "      <td>HB</td>\n",
       "      <td>L</td>\n",
       "      <td>No</td>\n",
       "    </tr>\n",
       "    <tr>\n",
       "      <th>4</th>\n",
       "      <td>SEDAN</td>\n",
       "      <td>H</td>\n",
       "      <td>Yes</td>\n",
       "    </tr>\n",
       "  </tbody>\n",
       "</table>\n",
       "</div>"
      ],
      "text/plain": [
       "    Type Price  Buy\n",
       "0    SUV     H   No\n",
       "1     HB     H   No\n",
       "2     HB     H  Yes\n",
       "3     HB     L   No\n",
       "4  SEDAN     H  Yes"
      ]
     },
     "execution_count": 4,
     "metadata": {},
     "output_type": "execute_result"
    }
   ],
   "source": [
    "df.head()"
   ]
  },
  {
   "cell_type": "code",
   "execution_count": 5,
   "id": "f762699a",
   "metadata": {},
   "outputs": [
    {
     "data": {
      "text/plain": [
       "2"
      ]
     },
     "execution_count": 5,
     "metadata": {},
     "output_type": "execute_result"
    }
   ],
   "source": [
    "df['Buy'].nunique()"
   ]
  },
  {
   "cell_type": "code",
   "execution_count": 45,
   "id": "affe8747",
   "metadata": {},
   "outputs": [],
   "source": [
    "# identify features and target\n",
    "features = df.drop('Buy', axis=1)\n",
    "target = df['Buy']\n",
    "\n",
    "# sanity check\n",
    "assert features.shape[0] == target.shape[0], \" len(features) == len(target)\""
   ]
  },
  {
   "cell_type": "code",
   "execution_count": 46,
   "id": "380e22e6",
   "metadata": {},
   "outputs": [
    {
     "data": {
      "text/html": [
       "<div>\n",
       "<style scoped>\n",
       "    .dataframe tbody tr th:only-of-type {\n",
       "        vertical-align: middle;\n",
       "    }\n",
       "\n",
       "    .dataframe tbody tr th {\n",
       "        vertical-align: top;\n",
       "    }\n",
       "\n",
       "    .dataframe thead th {\n",
       "        text-align: right;\n",
       "    }\n",
       "</style>\n",
       "<table border=\"1\" class=\"dataframe\">\n",
       "  <thead>\n",
       "    <tr style=\"text-align: right;\">\n",
       "      <th></th>\n",
       "      <th>Type</th>\n",
       "      <th>Price</th>\n",
       "    </tr>\n",
       "  </thead>\n",
       "  <tbody>\n",
       "    <tr>\n",
       "      <th>0</th>\n",
       "      <td>SUV</td>\n",
       "      <td>H</td>\n",
       "    </tr>\n",
       "    <tr>\n",
       "      <th>1</th>\n",
       "      <td>HB</td>\n",
       "      <td>H</td>\n",
       "    </tr>\n",
       "    <tr>\n",
       "      <th>2</th>\n",
       "      <td>HB</td>\n",
       "      <td>H</td>\n",
       "    </tr>\n",
       "    <tr>\n",
       "      <th>3</th>\n",
       "      <td>HB</td>\n",
       "      <td>L</td>\n",
       "    </tr>\n",
       "    <tr>\n",
       "      <th>4</th>\n",
       "      <td>SEDAN</td>\n",
       "      <td>H</td>\n",
       "    </tr>\n",
       "    <tr>\n",
       "      <th>5</th>\n",
       "      <td>SEDAN</td>\n",
       "      <td>L</td>\n",
       "    </tr>\n",
       "    <tr>\n",
       "      <th>6</th>\n",
       "      <td>SUV</td>\n",
       "      <td>L</td>\n",
       "    </tr>\n",
       "    <tr>\n",
       "      <th>7</th>\n",
       "      <td>SEDAN</td>\n",
       "      <td>H</td>\n",
       "    </tr>\n",
       "    <tr>\n",
       "      <th>8</th>\n",
       "      <td>HB</td>\n",
       "      <td>L</td>\n",
       "    </tr>\n",
       "    <tr>\n",
       "      <th>9</th>\n",
       "      <td>SUV</td>\n",
       "      <td>Hot</td>\n",
       "    </tr>\n",
       "  </tbody>\n",
       "</table>\n",
       "</div>"
      ],
      "text/plain": [
       "    Type Price\n",
       "0    SUV     H\n",
       "1     HB     H\n",
       "2     HB     H\n",
       "3     HB     L\n",
       "4  SEDAN     H\n",
       "5  SEDAN     L\n",
       "6    SUV     L\n",
       "7  SEDAN     H\n",
       "8     HB     L\n",
       "9    SUV   Hot"
      ]
     },
     "execution_count": 46,
     "metadata": {},
     "output_type": "execute_result"
    }
   ],
   "source": [
    "features"
   ]
  },
  {
   "cell_type": "code",
   "execution_count": 47,
   "id": "d0a161f0",
   "metadata": {},
   "outputs": [
    {
     "data": {
      "text/plain": [
       "0     No\n",
       "1     No\n",
       "2    Yes\n",
       "3     No\n",
       "4    Yes\n",
       "5    Yes\n",
       "6     No\n",
       "7    Yes\n",
       "8    Yes\n",
       "9    Yes\n",
       "Name: Buy, dtype: object"
      ]
     },
     "execution_count": 47,
     "metadata": {},
     "output_type": "execute_result"
    }
   ],
   "source": [
    "target"
   ]
  },
  {
   "cell_type": "code",
   "execution_count": 48,
   "id": "a7ffa4f5",
   "metadata": {},
   "outputs": [
    {
     "data": {
      "text/plain": [
       "pandas.core.series.Series"
      ]
     },
     "execution_count": 48,
     "metadata": {},
     "output_type": "execute_result"
    }
   ],
   "source": [
    "type(target)"
   ]
  },
  {
   "cell_type": "code",
   "execution_count": 49,
   "id": "42ca0356",
   "metadata": {},
   "outputs": [
    {
     "data": {
      "text/plain": [
       "Yes    6\n",
       "No     4\n",
       "Name: Buy, dtype: int64"
      ]
     },
     "execution_count": 49,
     "metadata": {},
     "output_type": "execute_result"
    }
   ],
   "source": [
    "df['Buy'].value_counts()"
   ]
  },
  {
   "cell_type": "code",
   "execution_count": 50,
   "id": "afe090b2",
   "metadata": {},
   "outputs": [
    {
     "data": {
      "text/plain": [
       "Type     object\n",
       "Price    object\n",
       "Buy      object\n",
       "dtype: object"
      ]
     },
     "execution_count": 50,
     "metadata": {},
     "output_type": "execute_result"
    }
   ],
   "source": [
    " df.dtypes"
   ]
  },
  {
   "cell_type": "markdown",
   "id": "f6f4dd5d",
   "metadata": {},
   "source": [
    "### Entropy calculation of dataset"
   ]
  },
  {
   "cell_type": "code",
   "execution_count": 51,
   "id": "a44ec734",
   "metadata": {},
   "outputs": [],
   "source": [
    "# Function made for entropy\n",
    "def entropy(pvl):\n",
    "    entropy_value = 0\n",
    "    \n",
    "    for i in [pvl]:\n",
    "        if i == 0:\n",
    "            return 0\n",
    "        entropy_value += -1*(i*np.log2(i))\n",
    "        \n",
    "    return entropy_value"
   ]
  },
  {
   "cell_type": "code",
   "execution_count": 52,
   "id": "6928de0c",
   "metadata": {},
   "outputs": [
    {
     "name": "stdout",
     "output_type": "stream",
     "text": [
      "0.6 0.4\n"
     ]
    },
    {
     "data": {
      "text/plain": [
       "0.9709505944546686"
      ]
     },
     "execution_count": 52,
     "metadata": {},
     "output_type": "execute_result"
    }
   ],
   "source": [
    "total_df = len(df)\n",
    "no_value = df[df['Buy'] == \"No\"].shape[0]\n",
    "yes_value = df[df['Buy'] == \"Yes\"].shape[0]\n",
    "prob_no = no_value/total_df\n",
    "prob_yes = yes_value/total_df\n",
    "print(prob_yes, prob_no)\n",
    "#Redirecting above entropy function\n",
    "H_df = -(-entropy(prob_yes) - entropy(prob_no))  \n",
    "H_df"
   ]
  },
  {
   "cell_type": "markdown",
   "id": "01f1a2d2",
   "metadata": {},
   "source": [
    "### Entropy calculation of Type column"
   ]
  },
  {
   "cell_type": "code",
   "execution_count": 53,
   "id": "a1da7e30",
   "metadata": {},
   "outputs": [
    {
     "data": {
      "text/plain": [
       "array(['SUV', 'HB', 'SEDAN'], dtype=object)"
      ]
     },
     "execution_count": 53,
     "metadata": {},
     "output_type": "execute_result"
    }
   ],
   "source": [
    "Type = df[\"Type\"].unique()\n",
    "Type"
   ]
  },
  {
   "cell_type": "code",
   "execution_count": 54,
   "id": "ecd22262",
   "metadata": {},
   "outputs": [
    {
     "name": "stdout",
     "output_type": "stream",
     "text": [
      "  Type Price  Buy\n",
      "0  SUV     H   No\n",
      "6  SUV     L   No\n",
      "9  SUV   Hot  Yes\n",
      "0.9182958340544896\n",
      "Probability of SUV = 0.3\n"
     ]
    }
   ],
   "source": [
    "#Entropy calculation of SUV\n",
    "SUV = df[df[\"Type\"] == \"SUV\"]\n",
    "print(SUV.head())\n",
    "\n",
    "total_SUV = len(SUV)\n",
    "total_SUV_yes = SUV[SUV[\"Buy\"] == \"Yes\"].shape[0]\n",
    "total_SUV_no = SUV[SUV[\"Buy\"] == \"No\"].shape[0]\n",
    "prob_SUV_yes = total_SUV_yes/total_SUV\n",
    "prob_SUV_no = total_SUV_no/total_SUV\n",
    "H_SUV = -(-entropy(prob_SUV_yes) - entropy(prob_SUV_no))\n",
    "print(H_SUV)\n",
    "\n",
    "\n",
    "p_SUV = len(SUV) / len(df)\n",
    "print(\"Probability of SUV = \"+str(p_SUV))"
   ]
  },
  {
   "cell_type": "code",
   "execution_count": 55,
   "id": "0539199b",
   "metadata": {},
   "outputs": [
    {
     "name": "stdout",
     "output_type": "stream",
     "text": [
      "  Type Price  Buy\n",
      "1   HB     H   No\n",
      "2   HB     H  Yes\n",
      "3   HB     L   No\n",
      "8   HB     L  Yes\n",
      "1.0\n",
      "Probability of HB = 0.4\n"
     ]
    }
   ],
   "source": [
    "# Entropy calculation of HB\n",
    "HB = df[df[\"Type\"] == \"HB\"]\n",
    "print(HB.head())\n",
    "\n",
    "total_HB = len(HB)\n",
    "total_HB_yes = HB[HB[\"Buy\"] == \"Yes\"].shape[0]\n",
    "total_HB_no = HB[HB[\"Buy\"] == \"No\"].shape[0]\n",
    "prob_HB_yes = total_HB_yes/total_HB\n",
    "prob_HB_no = total_HB_no/total_HB\n",
    "H_HB = -(-entropy(prob_HB_yes) - entropy(prob_HB_no))\n",
    "print(H_HB)\n",
    "\n",
    "p_HB = len(HB) / len(df)\n",
    "print(\"Probability of HB = \"+str(p_HB))"
   ]
  },
  {
   "cell_type": "code",
   "execution_count": 56,
   "id": "6fc5bf42",
   "metadata": {},
   "outputs": [
    {
     "name": "stdout",
     "output_type": "stream",
     "text": [
      "    Type Price  Buy\n",
      "4  SEDAN     H  Yes\n",
      "5  SEDAN     L  Yes\n",
      "7  SEDAN     H  Yes\n",
      "0.0\n",
      "Probability of SEDAN = 0.3\n"
     ]
    }
   ],
   "source": [
    "# Entropy calculation of SEDAN\n",
    "SEDAN = df[df[\"Type\"] == \"SEDAN\"]\n",
    "print(SEDAN.head())\n",
    "\n",
    "total_SEDAN = len(SEDAN)\n",
    "total_SEDAN_yes = SEDAN[SEDAN[\"Buy\"] == \"Yes\"].shape[0]\n",
    "total_SEDAN_no = SEDAN[SEDAN[\"Buy\"] == \"No\"].shape[0]\n",
    "prob_SEDAN_yes = total_SEDAN_yes/total_SEDAN\n",
    "prob_SEDAN_no = total_SEDAN_no/total_SEDAN\n",
    "H_SEDAN = -(-entropy(prob_SEDAN_yes) - entropy(prob_SEDAN_no))\n",
    "print(H_SEDAN)\n",
    "\n",
    "\n",
    "p_SEDAN = len(SEDAN) / len(df)\n",
    "print(\"Probability of SEDAN = \"+str(p_SEDAN))"
   ]
  },
  {
   "cell_type": "code",
   "execution_count": 57,
   "id": "df87d487",
   "metadata": {},
   "outputs": [
    {
     "data": {
      "text/plain": [
       "array(['H', 'L', 'Hot'], dtype=object)"
      ]
     },
     "execution_count": 57,
     "metadata": {},
     "output_type": "execute_result"
    }
   ],
   "source": [
    "Price = df[\"Price\"].unique()\n",
    "Price"
   ]
  },
  {
   "cell_type": "markdown",
   "id": "419ce20b",
   "metadata": {},
   "source": [
    "### Entropy calculation of price column"
   ]
  },
  {
   "cell_type": "code",
   "execution_count": 58,
   "id": "a80597f7",
   "metadata": {},
   "outputs": [
    {
     "name": "stdout",
     "output_type": "stream",
     "text": [
      "    Type Price  Buy\n",
      "0    SUV     H   No\n",
      "1     HB     H   No\n",
      "2     HB     H  Yes\n",
      "4  SEDAN     H  Yes\n",
      "7  SEDAN     H  Yes\n",
      "0.9709505944546686\n",
      "Probability of H = 0.5\n"
     ]
    }
   ],
   "source": [
    "#Entropy calculation of H\n",
    "price_H = df[df[\"Price\"] == \"H\"]\n",
    "print(price_H.head())\n",
    "\n",
    "total_H = len(price_H)\n",
    "total_H_yes = price_H[price_H[\"Buy\"] == \"Yes\"].shape[0]\n",
    "total_H_no = price_H[price_H[\"Buy\"] == \"No\"].shape[0]\n",
    "prob_H_yes = total_H_yes/total_H\n",
    "prob_H_no = total_H_no/total_H\n",
    "H_H = -(-entropy(prob_H_yes) - entropy(prob_H_no))\n",
    "print(H_H)\n",
    "\n",
    "\n",
    "p_H = len(price_H) / len(df)\n",
    "print(\"Probability of H = \"+str(p_H))"
   ]
  },
  {
   "cell_type": "code",
   "execution_count": 59,
   "id": "06371b38",
   "metadata": {
    "scrolled": true
   },
   "outputs": [
    {
     "name": "stdout",
     "output_type": "stream",
     "text": [
      "    Type Price  Buy\n",
      "3     HB     L   No\n",
      "5  SEDAN     L  Yes\n",
      "6    SUV     L   No\n",
      "8     HB     L  Yes\n",
      "1.0\n",
      "Probability of L = 0.4\n"
     ]
    }
   ],
   "source": [
    "#Entropy calculation of H\n",
    "price_L = df[df[\"Price\"] == \"L\"]\n",
    "print(price_L.head())\n",
    "\n",
    "total_L = len(price_L)\n",
    "total_L_yes = price_L[price_L[\"Buy\"] == \"Yes\"].shape[0]\n",
    "total_L_no = price_L[price_L[\"Buy\"] == \"No\"].shape[0]\n",
    "prob_L_yes = total_L_yes/total_L\n",
    "prob_L_no = total_L_no/total_L\n",
    "H_L = -(-entropy(prob_L_yes) - entropy(prob_L_no))\n",
    "print(H_L)\n",
    "\n",
    "\n",
    "p_L = len(price_L) / len(df)\n",
    "print(\"Probability of L = \"+str(p_L))"
   ]
  },
  {
   "cell_type": "markdown",
   "id": "771a3ce6",
   "metadata": {},
   "source": [
    "Low entropy is better than higher one. High randomess is not suitable for our system."
   ]
  },
  {
   "cell_type": "markdown",
   "id": "9bda4780",
   "metadata": {},
   "source": [
    "### Information Gain"
   ]
  },
  {
   "cell_type": "code",
   "execution_count": 60,
   "id": "9d7f7fac",
   "metadata": {},
   "outputs": [
    {
     "data": {
      "text/plain": [
       "0.6754887502163469"
      ]
     },
     "execution_count": 60,
     "metadata": {},
     "output_type": "execute_result"
    }
   ],
   "source": [
    "# total information for type attribute\n",
    "I_T = p_SUV * H_SUV + p_HB * H_HB + p_SEDAN * H_SEDAN\n",
    "I_T"
   ]
  },
  {
   "cell_type": "code",
   "execution_count": 61,
   "id": "22b71530",
   "metadata": {},
   "outputs": [
    {
     "data": {
      "text/plain": [
       "0.29546184423832167"
      ]
     },
     "execution_count": 61,
     "metadata": {},
     "output_type": "execute_result"
    }
   ],
   "source": [
    "# information gain for type attribute\n",
    "Information_Gain = H_df - I_T\n",
    "Information_Gain"
   ]
  },
  {
   "cell_type": "code",
   "execution_count": 62,
   "id": "a2484fb8",
   "metadata": {},
   "outputs": [
    {
     "data": {
      "text/plain": [
       "0.8854752972273343"
      ]
     },
     "execution_count": 62,
     "metadata": {},
     "output_type": "execute_result"
    }
   ],
   "source": [
    "# total information for price attribute\n",
    "I_P = p_H * H_H + p_L * H_L\n",
    "I_P"
   ]
  },
  {
   "cell_type": "code",
   "execution_count": 63,
   "id": "0eccaf03",
   "metadata": {},
   "outputs": [
    {
     "data": {
      "text/plain": [
       "0.08547529722733427"
      ]
     },
     "execution_count": 63,
     "metadata": {},
     "output_type": "execute_result"
    }
   ],
   "source": [
    "# information gain for price attribute\n",
    "Information_Gain = H_df - I_P\n",
    "Information_Gain"
   ]
  },
  {
   "cell_type": "raw",
   "id": "aaa3de36",
   "metadata": {},
   "source": [
    "Note: Here \"Type\" attribute has higher information gain than \"Price\" attribute."
   ]
  },
  {
   "cell_type": "markdown",
   "id": "4c803c96",
   "metadata": {},
   "source": [
    "High number of information gain is better than low ."
   ]
  },
  {
   "cell_type": "markdown",
   "id": "2cc9c77f",
   "metadata": {},
   "source": [
    "## Task 2 - Random Forest Regressor"
   ]
  },
  {
   "cell_type": "code",
   "execution_count": 64,
   "id": "dba5b644",
   "metadata": {},
   "outputs": [
    {
     "data": {
      "text/html": [
       "<div>\n",
       "<style scoped>\n",
       "    .dataframe tbody tr th:only-of-type {\n",
       "        vertical-align: middle;\n",
       "    }\n",
       "\n",
       "    .dataframe tbody tr th {\n",
       "        vertical-align: top;\n",
       "    }\n",
       "\n",
       "    .dataframe thead th {\n",
       "        text-align: right;\n",
       "    }\n",
       "</style>\n",
       "<table border=\"1\" class=\"dataframe\">\n",
       "  <thead>\n",
       "    <tr style=\"text-align: right;\">\n",
       "      <th></th>\n",
       "      <th>price</th>\n",
       "      <th>bedrooms</th>\n",
       "      <th>bathrooms</th>\n",
       "      <th>sqft_living</th>\n",
       "      <th>sqft_lot</th>\n",
       "      <th>floors</th>\n",
       "      <th>sqft_above</th>\n",
       "      <th>yr_built</th>\n",
       "    </tr>\n",
       "  </thead>\n",
       "  <tbody>\n",
       "    <tr>\n",
       "      <th>0</th>\n",
       "      <td>221900.0</td>\n",
       "      <td>3</td>\n",
       "      <td>1.00</td>\n",
       "      <td>1180</td>\n",
       "      <td>5650</td>\n",
       "      <td>1.0</td>\n",
       "      <td>1180</td>\n",
       "      <td>1955</td>\n",
       "    </tr>\n",
       "    <tr>\n",
       "      <th>1</th>\n",
       "      <td>538000.0</td>\n",
       "      <td>3</td>\n",
       "      <td>2.25</td>\n",
       "      <td>2570</td>\n",
       "      <td>7242</td>\n",
       "      <td>2.0</td>\n",
       "      <td>2170</td>\n",
       "      <td>1951</td>\n",
       "    </tr>\n",
       "    <tr>\n",
       "      <th>2</th>\n",
       "      <td>180000.0</td>\n",
       "      <td>2</td>\n",
       "      <td>1.00</td>\n",
       "      <td>770</td>\n",
       "      <td>10000</td>\n",
       "      <td>1.0</td>\n",
       "      <td>770</td>\n",
       "      <td>1933</td>\n",
       "    </tr>\n",
       "    <tr>\n",
       "      <th>3</th>\n",
       "      <td>604000.0</td>\n",
       "      <td>4</td>\n",
       "      <td>3.00</td>\n",
       "      <td>1960</td>\n",
       "      <td>5000</td>\n",
       "      <td>1.0</td>\n",
       "      <td>1050</td>\n",
       "      <td>1965</td>\n",
       "    </tr>\n",
       "    <tr>\n",
       "      <th>4</th>\n",
       "      <td>510000.0</td>\n",
       "      <td>3</td>\n",
       "      <td>2.00</td>\n",
       "      <td>1680</td>\n",
       "      <td>8080</td>\n",
       "      <td>1.0</td>\n",
       "      <td>1680</td>\n",
       "      <td>1987</td>\n",
       "    </tr>\n",
       "  </tbody>\n",
       "</table>\n",
       "</div>"
      ],
      "text/plain": [
       "      price  bedrooms  bathrooms  sqft_living  sqft_lot  floors  sqft_above  \\\n",
       "0  221900.0         3       1.00         1180      5650     1.0        1180   \n",
       "1  538000.0         3       2.25         2570      7242     2.0        2170   \n",
       "2  180000.0         2       1.00          770     10000     1.0         770   \n",
       "3  604000.0         4       3.00         1960      5000     1.0        1050   \n",
       "4  510000.0         3       2.00         1680      8080     1.0        1680   \n",
       "\n",
       "   yr_built  \n",
       "0      1955  \n",
       "1      1951  \n",
       "2      1933  \n",
       "3      1965  \n",
       "4      1987  "
      ]
     },
     "execution_count": 64,
     "metadata": {},
     "output_type": "execute_result"
    }
   ],
   "source": [
    "df2 = pd.read_csv('house_data.csv')\n",
    "df2.head()"
   ]
  },
  {
   "cell_type": "code",
   "execution_count": 65,
   "id": "99af4b88",
   "metadata": {},
   "outputs": [
    {
     "data": {
      "text/plain": [
       "price          float64\n",
       "bedrooms         int64\n",
       "bathrooms      float64\n",
       "sqft_living      int64\n",
       "sqft_lot         int64\n",
       "floors         float64\n",
       "sqft_above       int64\n",
       "yr_built         int64\n",
       "dtype: object"
      ]
     },
     "execution_count": 65,
     "metadata": {},
     "output_type": "execute_result"
    }
   ],
   "source": [
    "df2.dtypes"
   ]
  },
  {
   "cell_type": "code",
   "execution_count": 67,
   "id": "5a73f205",
   "metadata": {},
   "outputs": [
    {
     "data": {
      "text/plain": [
       "price          0\n",
       "bedrooms       0\n",
       "bathrooms      0\n",
       "sqft_living    0\n",
       "sqft_lot       0\n",
       "floors         0\n",
       "sqft_above     0\n",
       "yr_built       0\n",
       "dtype: int64"
      ]
     },
     "execution_count": 67,
     "metadata": {},
     "output_type": "execute_result"
    }
   ],
   "source": [
    "# trying to figure out if there is nan values.we need to remove incase of their presence\n",
    "df2.isna().sum()"
   ]
  },
  {
   "cell_type": "code",
   "execution_count": 69,
   "id": "07a7e3fc",
   "metadata": {},
   "outputs": [
    {
     "data": {
      "text/html": [
       "<div>\n",
       "<style scoped>\n",
       "    .dataframe tbody tr th:only-of-type {\n",
       "        vertical-align: middle;\n",
       "    }\n",
       "\n",
       "    .dataframe tbody tr th {\n",
       "        vertical-align: top;\n",
       "    }\n",
       "\n",
       "    .dataframe thead th {\n",
       "        text-align: right;\n",
       "    }\n",
       "</style>\n",
       "<table border=\"1\" class=\"dataframe\">\n",
       "  <thead>\n",
       "    <tr style=\"text-align: right;\">\n",
       "      <th></th>\n",
       "      <th>price</th>\n",
       "      <th>bedrooms</th>\n",
       "      <th>bathrooms</th>\n",
       "      <th>sqft_living</th>\n",
       "      <th>sqft_lot</th>\n",
       "      <th>floors</th>\n",
       "      <th>sqft_above</th>\n",
       "      <th>yr_built</th>\n",
       "    </tr>\n",
       "  </thead>\n",
       "  <tbody>\n",
       "    <tr>\n",
       "      <th>0</th>\n",
       "      <td>False</td>\n",
       "      <td>False</td>\n",
       "      <td>False</td>\n",
       "      <td>False</td>\n",
       "      <td>False</td>\n",
       "      <td>False</td>\n",
       "      <td>False</td>\n",
       "      <td>False</td>\n",
       "    </tr>\n",
       "    <tr>\n",
       "      <th>1</th>\n",
       "      <td>False</td>\n",
       "      <td>False</td>\n",
       "      <td>False</td>\n",
       "      <td>False</td>\n",
       "      <td>False</td>\n",
       "      <td>False</td>\n",
       "      <td>False</td>\n",
       "      <td>False</td>\n",
       "    </tr>\n",
       "    <tr>\n",
       "      <th>2</th>\n",
       "      <td>False</td>\n",
       "      <td>False</td>\n",
       "      <td>False</td>\n",
       "      <td>False</td>\n",
       "      <td>False</td>\n",
       "      <td>False</td>\n",
       "      <td>False</td>\n",
       "      <td>False</td>\n",
       "    </tr>\n",
       "    <tr>\n",
       "      <th>3</th>\n",
       "      <td>False</td>\n",
       "      <td>False</td>\n",
       "      <td>False</td>\n",
       "      <td>False</td>\n",
       "      <td>False</td>\n",
       "      <td>False</td>\n",
       "      <td>False</td>\n",
       "      <td>False</td>\n",
       "    </tr>\n",
       "    <tr>\n",
       "      <th>4</th>\n",
       "      <td>False</td>\n",
       "      <td>False</td>\n",
       "      <td>False</td>\n",
       "      <td>False</td>\n",
       "      <td>False</td>\n",
       "      <td>False</td>\n",
       "      <td>False</td>\n",
       "      <td>False</td>\n",
       "    </tr>\n",
       "    <tr>\n",
       "      <th>...</th>\n",
       "      <td>...</td>\n",
       "      <td>...</td>\n",
       "      <td>...</td>\n",
       "      <td>...</td>\n",
       "      <td>...</td>\n",
       "      <td>...</td>\n",
       "      <td>...</td>\n",
       "      <td>...</td>\n",
       "    </tr>\n",
       "    <tr>\n",
       "      <th>21570</th>\n",
       "      <td>False</td>\n",
       "      <td>False</td>\n",
       "      <td>False</td>\n",
       "      <td>False</td>\n",
       "      <td>False</td>\n",
       "      <td>False</td>\n",
       "      <td>False</td>\n",
       "      <td>False</td>\n",
       "    </tr>\n",
       "    <tr>\n",
       "      <th>21571</th>\n",
       "      <td>False</td>\n",
       "      <td>False</td>\n",
       "      <td>False</td>\n",
       "      <td>False</td>\n",
       "      <td>False</td>\n",
       "      <td>False</td>\n",
       "      <td>False</td>\n",
       "      <td>False</td>\n",
       "    </tr>\n",
       "    <tr>\n",
       "      <th>21572</th>\n",
       "      <td>False</td>\n",
       "      <td>False</td>\n",
       "      <td>False</td>\n",
       "      <td>False</td>\n",
       "      <td>False</td>\n",
       "      <td>False</td>\n",
       "      <td>False</td>\n",
       "      <td>False</td>\n",
       "    </tr>\n",
       "    <tr>\n",
       "      <th>21573</th>\n",
       "      <td>False</td>\n",
       "      <td>False</td>\n",
       "      <td>False</td>\n",
       "      <td>False</td>\n",
       "      <td>False</td>\n",
       "      <td>False</td>\n",
       "      <td>False</td>\n",
       "      <td>False</td>\n",
       "    </tr>\n",
       "    <tr>\n",
       "      <th>21574</th>\n",
       "      <td>False</td>\n",
       "      <td>False</td>\n",
       "      <td>False</td>\n",
       "      <td>False</td>\n",
       "      <td>False</td>\n",
       "      <td>False</td>\n",
       "      <td>False</td>\n",
       "      <td>False</td>\n",
       "    </tr>\n",
       "  </tbody>\n",
       "</table>\n",
       "<p>21575 rows × 8 columns</p>\n",
       "</div>"
      ],
      "text/plain": [
       "       price  bedrooms  bathrooms  sqft_living  sqft_lot  floors  sqft_above  \\\n",
       "0      False     False      False        False     False   False       False   \n",
       "1      False     False      False        False     False   False       False   \n",
       "2      False     False      False        False     False   False       False   \n",
       "3      False     False      False        False     False   False       False   \n",
       "4      False     False      False        False     False   False       False   \n",
       "...      ...       ...        ...          ...       ...     ...         ...   \n",
       "21570  False     False      False        False     False   False       False   \n",
       "21571  False     False      False        False     False   False       False   \n",
       "21572  False     False      False        False     False   False       False   \n",
       "21573  False     False      False        False     False   False       False   \n",
       "21574  False     False      False        False     False   False       False   \n",
       "\n",
       "       yr_built  \n",
       "0         False  \n",
       "1         False  \n",
       "2         False  \n",
       "3         False  \n",
       "4         False  \n",
       "...         ...  \n",
       "21570     False  \n",
       "21571     False  \n",
       "21572     False  \n",
       "21573     False  \n",
       "21574     False  \n",
       "\n",
       "[21575 rows x 8 columns]"
      ]
     },
     "execution_count": 69,
     "metadata": {},
     "output_type": "execute_result"
    }
   ],
   "source": [
    "df2.isna()"
   ]
  },
  {
   "cell_type": "code",
   "execution_count": 70,
   "id": "1beff826",
   "metadata": {},
   "outputs": [
    {
     "name": "stdout",
     "output_type": "stream",
     "text": [
      "<class 'pandas.core.frame.DataFrame'>\n",
      "RangeIndex: 21575 entries, 0 to 21574\n",
      "Data columns (total 8 columns):\n",
      " #   Column       Non-Null Count  Dtype  \n",
      "---  ------       --------------  -----  \n",
      " 0   price        21575 non-null  float64\n",
      " 1   bedrooms     21575 non-null  int64  \n",
      " 2   bathrooms    21575 non-null  float64\n",
      " 3   sqft_living  21575 non-null  int64  \n",
      " 4   sqft_lot     21575 non-null  int64  \n",
      " 5   floors       21575 non-null  float64\n",
      " 6   sqft_above   21575 non-null  int64  \n",
      " 7   yr_built     21575 non-null  int64  \n",
      "dtypes: float64(3), int64(5)\n",
      "memory usage: 1.3 MB\n"
     ]
    }
   ],
   "source": [
    "df2.info()"
   ]
  },
  {
   "cell_type": "code",
   "execution_count": 71,
   "id": "750d0101",
   "metadata": {},
   "outputs": [
    {
     "data": {
      "text/plain": [
       "Text(0, 0.5, 'Count')"
      ]
     },
     "execution_count": 71,
     "metadata": {},
     "output_type": "execute_result"
    },
    {
     "data": {
      "image/png": "[encoded data removed]",
      "text/plain": [
       "<Figure size 1440x720 with 1 Axes>"
      ]
     },
     "metadata": {
      "needs_background": "light"
     },
     "output_type": "display_data"
    }
   ],
   "source": [
    "import matplotlib\n",
    "\n",
    "matplotlib.rcParams[\"figure.figsize\"] = (20,10)\n",
    "plt.hist(df2.price,rwidth=0.8)\n",
    "plt.xlabel(\"Price\")\n",
    "plt.ylabel(\"Count\")"
   ]
  },
  {
   "cell_type": "code",
   "execution_count": 72,
   "id": "588fda39",
   "metadata": {
    "scrolled": true
   },
   "outputs": [
    {
     "data": {
      "text/plain": [
       "Text(0, 0.5, 'Count')"
      ]
     },
     "execution_count": 72,
     "metadata": {},
     "output_type": "execute_result"
    },
    {
     "data": {
      "image/png": "[encoded data removed]",
      "text/plain": [
       "<Figure size 1440x720 with 1 Axes>"
      ]
     },
     "metadata": {
      "needs_background": "light"
     },
     "output_type": "display_data"
    }
   ],
   "source": [
    "import matplotlib\n",
    "\n",
    "matplotlib.rcParams[\"figure.figsize\"] = (20,10)\n",
    "plt.hist(df2.bedrooms,rwidth=0.8)\n",
    "plt.xlabel(\"Price\")\n",
    "plt.ylabel(\"Count\")"
   ]
  },
  {
   "cell_type": "markdown",
   "id": "925c62b5",
   "metadata": {},
   "source": [
    "We can see as price in and count column. As price increases the number of count is seem to be decreasing."
   ]
  },
  {
   "cell_type": "code",
   "execution_count": 73,
   "id": "f9100e88",
   "metadata": {
    "scrolled": true
   },
   "outputs": [
    {
     "data": {
      "text/plain": [
       "<AxesSubplot:xlabel='bedrooms', ylabel='price'>"
      ]
     },
     "execution_count": 73,
     "metadata": {},
     "output_type": "execute_result"
    },
    {
     "data": {
      "image/png": "[encoded data removed]",
      "text/plain": [
       "<Figure size 1440x360 with 1 Axes>"
      ]
     },
     "metadata": {
      "needs_background": "light"
     },
     "output_type": "display_data"
    }
   ],
   "source": [
    "import seaborn as sns\n",
    "plt.figure(figsize = (20,5))\n",
    "sns.boxplot(x='bedrooms', y = 'price', data = df2.sort_values('price', ascending = False))"
   ]
  },
  {
   "cell_type": "markdown",
   "id": "ab959a6c",
   "metadata": {},
   "source": [
    "This graph is used for finding outliers of price column. We can see various dots representing outliers."
   ]
  },
  {
   "cell_type": "code",
   "execution_count": 74,
   "id": "2bb10c0a",
   "metadata": {},
   "outputs": [],
   "source": [
    "# identify features and label and seperate it:\n",
    "features = df2.iloc[ : , 1:8]\n",
    "target = df2.iloc[ : , :1]\n",
    "\n",
    "# sanity check\n",
    "assert features.shape[0] == target.shape[0], \" len(features) == len(target)\""
   ]
  },
  {
   "cell_type": "code",
   "execution_count": 75,
   "id": "a1488fec",
   "metadata": {},
   "outputs": [
    {
     "data": {
      "text/html": [
       "<div>\n",
       "<style scoped>\n",
       "    .dataframe tbody tr th:only-of-type {\n",
       "        vertical-align: middle;\n",
       "    }\n",
       "\n",
       "    .dataframe tbody tr th {\n",
       "        vertical-align: top;\n",
       "    }\n",
       "\n",
       "    .dataframe thead th {\n",
       "        text-align: right;\n",
       "    }\n",
       "</style>\n",
       "<table border=\"1\" class=\"dataframe\">\n",
       "  <thead>\n",
       "    <tr style=\"text-align: right;\">\n",
       "      <th></th>\n",
       "      <th>bedrooms</th>\n",
       "      <th>bathrooms</th>\n",
       "      <th>sqft_living</th>\n",
       "      <th>sqft_lot</th>\n",
       "      <th>floors</th>\n",
       "      <th>sqft_above</th>\n",
       "      <th>yr_built</th>\n",
       "    </tr>\n",
       "  </thead>\n",
       "  <tbody>\n",
       "    <tr>\n",
       "      <th>0</th>\n",
       "      <td>3</td>\n",
       "      <td>1.00</td>\n",
       "      <td>1180</td>\n",
       "      <td>5650</td>\n",
       "      <td>1.0</td>\n",
       "      <td>1180</td>\n",
       "      <td>1955</td>\n",
       "    </tr>\n",
       "    <tr>\n",
       "      <th>1</th>\n",
       "      <td>3</td>\n",
       "      <td>2.25</td>\n",
       "      <td>2570</td>\n",
       "      <td>7242</td>\n",
       "      <td>2.0</td>\n",
       "      <td>2170</td>\n",
       "      <td>1951</td>\n",
       "    </tr>\n",
       "    <tr>\n",
       "      <th>2</th>\n",
       "      <td>2</td>\n",
       "      <td>1.00</td>\n",
       "      <td>770</td>\n",
       "      <td>10000</td>\n",
       "      <td>1.0</td>\n",
       "      <td>770</td>\n",
       "      <td>1933</td>\n",
       "    </tr>\n",
       "    <tr>\n",
       "      <th>3</th>\n",
       "      <td>4</td>\n",
       "      <td>3.00</td>\n",
       "      <td>1960</td>\n",
       "      <td>5000</td>\n",
       "      <td>1.0</td>\n",
       "      <td>1050</td>\n",
       "      <td>1965</td>\n",
       "    </tr>\n",
       "    <tr>\n",
       "      <th>4</th>\n",
       "      <td>3</td>\n",
       "      <td>2.00</td>\n",
       "      <td>1680</td>\n",
       "      <td>8080</td>\n",
       "      <td>1.0</td>\n",
       "      <td>1680</td>\n",
       "      <td>1987</td>\n",
       "    </tr>\n",
       "    <tr>\n",
       "      <th>...</th>\n",
       "      <td>...</td>\n",
       "      <td>...</td>\n",
       "      <td>...</td>\n",
       "      <td>...</td>\n",
       "      <td>...</td>\n",
       "      <td>...</td>\n",
       "      <td>...</td>\n",
       "    </tr>\n",
       "    <tr>\n",
       "      <th>21570</th>\n",
       "      <td>3</td>\n",
       "      <td>2.50</td>\n",
       "      <td>1530</td>\n",
       "      <td>1131</td>\n",
       "      <td>3.0</td>\n",
       "      <td>1530</td>\n",
       "      <td>2009</td>\n",
       "    </tr>\n",
       "    <tr>\n",
       "      <th>21571</th>\n",
       "      <td>4</td>\n",
       "      <td>2.50</td>\n",
       "      <td>2310</td>\n",
       "      <td>5813</td>\n",
       "      <td>2.0</td>\n",
       "      <td>2310</td>\n",
       "      <td>2014</td>\n",
       "    </tr>\n",
       "    <tr>\n",
       "      <th>21572</th>\n",
       "      <td>2</td>\n",
       "      <td>0.75</td>\n",
       "      <td>1020</td>\n",
       "      <td>1350</td>\n",
       "      <td>2.0</td>\n",
       "      <td>1020</td>\n",
       "      <td>2009</td>\n",
       "    </tr>\n",
       "    <tr>\n",
       "      <th>21573</th>\n",
       "      <td>3</td>\n",
       "      <td>2.50</td>\n",
       "      <td>1600</td>\n",
       "      <td>2388</td>\n",
       "      <td>2.0</td>\n",
       "      <td>1600</td>\n",
       "      <td>2004</td>\n",
       "    </tr>\n",
       "    <tr>\n",
       "      <th>21574</th>\n",
       "      <td>2</td>\n",
       "      <td>0.75</td>\n",
       "      <td>1020</td>\n",
       "      <td>1076</td>\n",
       "      <td>2.0</td>\n",
       "      <td>1020</td>\n",
       "      <td>2008</td>\n",
       "    </tr>\n",
       "  </tbody>\n",
       "</table>\n",
       "<p>21575 rows × 7 columns</p>\n",
       "</div>"
      ],
      "text/plain": [
       "       bedrooms  bathrooms  sqft_living  sqft_lot  floors  sqft_above  \\\n",
       "0             3       1.00         1180      5650     1.0        1180   \n",
       "1             3       2.25         2570      7242     2.0        2170   \n",
       "2             2       1.00          770     10000     1.0         770   \n",
       "3             4       3.00         1960      5000     1.0        1050   \n",
       "4             3       2.00         1680      8080     1.0        1680   \n",
       "...         ...        ...          ...       ...     ...         ...   \n",
       "21570         3       2.50         1530      1131     3.0        1530   \n",
       "21571         4       2.50         2310      5813     2.0        2310   \n",
       "21572         2       0.75         1020      1350     2.0        1020   \n",
       "21573         3       2.50         1600      2388     2.0        1600   \n",
       "21574         2       0.75         1020      1076     2.0        1020   \n",
       "\n",
       "       yr_built  \n",
       "0          1955  \n",
       "1          1951  \n",
       "2          1933  \n",
       "3          1965  \n",
       "4          1987  \n",
       "...         ...  \n",
       "21570      2009  \n",
       "21571      2014  \n",
       "21572      2009  \n",
       "21573      2004  \n",
       "21574      2008  \n",
       "\n",
       "[21575 rows x 7 columns]"
      ]
     },
     "execution_count": 75,
     "metadata": {},
     "output_type": "execute_result"
    }
   ],
   "source": [
    "features"
   ]
  },
  {
   "cell_type": "code",
   "execution_count": 76,
   "id": "3cb04c20",
   "metadata": {},
   "outputs": [
    {
     "data": {
      "text/html": [
       "<div>\n",
       "<style scoped>\n",
       "    .dataframe tbody tr th:only-of-type {\n",
       "        vertical-align: middle;\n",
       "    }\n",
       "\n",
       "    .dataframe tbody tr th {\n",
       "        vertical-align: top;\n",
       "    }\n",
       "\n",
       "    .dataframe thead th {\n",
       "        text-align: right;\n",
       "    }\n",
       "</style>\n",
       "<table border=\"1\" class=\"dataframe\">\n",
       "  <thead>\n",
       "    <tr style=\"text-align: right;\">\n",
       "      <th></th>\n",
       "      <th>price</th>\n",
       "    </tr>\n",
       "  </thead>\n",
       "  <tbody>\n",
       "    <tr>\n",
       "      <th>0</th>\n",
       "      <td>221900.0</td>\n",
       "    </tr>\n",
       "    <tr>\n",
       "      <th>1</th>\n",
       "      <td>538000.0</td>\n",
       "    </tr>\n",
       "    <tr>\n",
       "      <th>2</th>\n",
       "      <td>180000.0</td>\n",
       "    </tr>\n",
       "    <tr>\n",
       "      <th>3</th>\n",
       "      <td>604000.0</td>\n",
       "    </tr>\n",
       "    <tr>\n",
       "      <th>4</th>\n",
       "      <td>510000.0</td>\n",
       "    </tr>\n",
       "    <tr>\n",
       "      <th>...</th>\n",
       "      <td>...</td>\n",
       "    </tr>\n",
       "    <tr>\n",
       "      <th>21570</th>\n",
       "      <td>360000.0</td>\n",
       "    </tr>\n",
       "    <tr>\n",
       "      <th>21571</th>\n",
       "      <td>400000.0</td>\n",
       "    </tr>\n",
       "    <tr>\n",
       "      <th>21572</th>\n",
       "      <td>402101.0</td>\n",
       "    </tr>\n",
       "    <tr>\n",
       "      <th>21573</th>\n",
       "      <td>400000.0</td>\n",
       "    </tr>\n",
       "    <tr>\n",
       "      <th>21574</th>\n",
       "      <td>325000.0</td>\n",
       "    </tr>\n",
       "  </tbody>\n",
       "</table>\n",
       "<p>21575 rows × 1 columns</p>\n",
       "</div>"
      ],
      "text/plain": [
       "          price\n",
       "0      221900.0\n",
       "1      538000.0\n",
       "2      180000.0\n",
       "3      604000.0\n",
       "4      510000.0\n",
       "...         ...\n",
       "21570  360000.0\n",
       "21571  400000.0\n",
       "21572  402101.0\n",
       "21573  400000.0\n",
       "21574  325000.0\n",
       "\n",
       "[21575 rows x 1 columns]"
      ]
     },
     "execution_count": 76,
     "metadata": {},
     "output_type": "execute_result"
    }
   ],
   "source": [
    "target"
   ]
  },
  {
   "cell_type": "code",
   "execution_count": 77,
   "id": "00576df1",
   "metadata": {},
   "outputs": [
    {
     "data": {
      "text/plain": [
       "(21575, 7)"
      ]
     },
     "execution_count": 77,
     "metadata": {},
     "output_type": "execute_result"
    }
   ],
   "source": [
    "features.shape"
   ]
  },
  {
   "cell_type": "code",
   "execution_count": 78,
   "id": "ec2c2cf2",
   "metadata": {},
   "outputs": [
    {
     "data": {
      "text/plain": [
       "(21575, 1)"
      ]
     },
     "execution_count": 78,
     "metadata": {},
     "output_type": "execute_result"
    }
   ],
   "source": [
    "target.shape"
   ]
  },
  {
   "cell_type": "code",
   "execution_count": 79,
   "id": "106c649a",
   "metadata": {},
   "outputs": [
    {
     "data": {
      "text/plain": [
       "RandomForestRegressor(random_state=0)"
      ]
     },
     "execution_count": 79,
     "metadata": {},
     "output_type": "execute_result"
    }
   ],
   "source": [
    "from sklearn.ensemble import RandomForestRegressor\n",
    " \n",
    "regressor = RandomForestRegressor(n_estimators = 100, random_state = 0)\n",
    " \n",
    "# fit the regressor with x and y data\n",
    "regressor.fit(features, target) "
   ]
  },
  {
   "cell_type": "code",
   "execution_count": 81,
   "id": "646d5bfe",
   "metadata": {},
   "outputs": [],
   "source": [
    "from sklearn.model_selection import train_test_split\n",
    "\n",
    "x_train, x_test, y_train,y_test = train_test_split(features, target, test_size = 0.2,random_state=42)\n",
    "assert x_train.shape[0] == y_train.shape[0]"
   ]
  },
  {
   "cell_type": "code",
   "execution_count": 86,
   "id": "73ee62b6",
   "metadata": {},
   "outputs": [
    {
     "data": {
      "text/plain": [
       "0.5862930508184263"
      ]
     },
     "execution_count": 86,
     "metadata": {},
     "output_type": "execute_result"
    }
   ],
   "source": [
    "from sklearn.ensemble import RandomForestRegressor\n",
    "rf = RandomForestRegressor(n_estimators = 100, random_state=42)\n",
    "rfmodel = rf.fit(x_train, y_train)\n",
    "y_pred = rf.predict(x_test)\n",
    "rfmodel.score(x_test, y_test)"
   ]
  },
  {
   "cell_type": "markdown",
   "id": "64d3856b",
   "metadata": {},
   "source": [
    "The accurancy obtained by using random forest is 58%"
   ]
  },
  {
   "cell_type": "raw",
   "id": "8b9c0a45",
   "metadata": {},
   "source": [
    "# Calculate the absolute errors\n",
    "from sklearn import metrics\n",
    "\n",
    "# Print out the mean absolute error (mae)\n",
    "print('Mean Absolute Error ->', metrics.mean_absolute_error(y_test, y_pred))\n",
    "# Print out the mean squared error (mse)\n",
    "print('Mean Squared Error ->', metrics.mean_squared_error(y_test, y_pred))\n",
    "# Print out the mean absolute error (rmse)\n",
    "print('Root Mean Squared Error ->', np.sqrt(metrics.mean_squared_error(y_test, y_pred)))\n"
   ]
  },
  {
   "cell_type": "code",
   "execution_count": 84,
   "id": "865ac5ce",
   "metadata": {},
   "outputs": [
    {
     "name": "stdout",
     "output_type": "stream",
     "text": [
      "0.5650135119055203\n"
     ]
    }
   ],
   "source": [
    "from sklearn.linear_model import LinearRegression\n",
    "  \n",
    "regr = LinearRegression()\n",
    "  \n",
    "regr.fit(x_train, y_train)\n",
    "print(regr.score(x_test, y_test))"
   ]
  },
  {
   "cell_type": "markdown",
   "id": "deb54319",
   "metadata": {},
   "source": [
    "The accurancy obtained by using linear regression is 56%"
   ]
  }
 ],
 "metadata": {
  "kernelspec": {
   "display_name": "Python 3 (ipykernel)",
   "language": "python",
   "name": "python3"
  },
  "language_info": {
   "codemirror_mode": {
    "name": "ipython",
    "version": 3
   },
   "file_extension": ".py",
   "mimetype": "text/x-python",
   "name": "python",
   "nbconvert_exporter": "python",
   "pygments_lexer": "ipython3",
   "version": "3.9.7"
  }
 },
 "nbformat": 4,
 "nbformat_minor": 5
}
